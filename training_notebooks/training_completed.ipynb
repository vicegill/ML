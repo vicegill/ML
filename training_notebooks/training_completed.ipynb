{
 "cells": [
  {
   "cell_type": "code",
   "execution_count": 1,
   "id": "5444fdf2",
   "metadata": {
    "execution": {
     "iopub.execute_input": "2024-04-12T23:22:46.181541Z",
     "iopub.status.busy": "2024-04-12T23:22:46.180732Z",
     "iopub.status.idle": "2024-04-12T23:22:47.600347Z",
     "shell.execute_reply": "2024-04-12T23:22:47.599955Z"
    },
    "papermill": {
     "duration": 1.449712,
     "end_time": "2024-04-12T23:22:47.600459",
     "exception": false,
     "start_time": "2024-04-12T23:22:46.150747",
     "status": "completed"
    },
    "tags": []
   },
   "outputs": [
    {
     "name": "stderr",
     "output_type": "stream",
     "text": [
      "/home/jaskaran/.conda/envs/training/lib/python3.6/site-packages/tqdm/auto.py:22: TqdmWarning: IProgress not found. Please update jupyter and ipywidgets. See https://ipywidgets.readthedocs.io/en/stable/user_install.html\n",
      "  from .autonotebook import tqdm as notebook_tqdm\n"
     ]
    }
   ],
   "source": [
    "import torch\n",
    "import torch.optim as optim\n",
    "import torch.nn as nn\n",
    "import os\n",
    "from torch.utils.data import Dataset, DataLoader , random_split\n",
    "from torchvision import transforms , datasets\n",
    "from PIL import Image\n",
    "import pandas as pd\n",
    "import re\n",
    "import numpy as np\n",
    "import random\n",
    "import shutil\n",
    "import matplotlib.pyplot as plt\n",
    "from sklearn.model_selection import KFold\n",
    "\n"
   ]
  },
  {
   "cell_type": "code",
   "execution_count": 2,
   "id": "8845ed1b",
   "metadata": {
    "execution": {
     "iopub.execute_input": "2024-04-12T23:22:47.738341Z",
     "iopub.status.busy": "2024-04-12T23:22:47.737517Z",
     "iopub.status.idle": "2024-04-12T23:22:47.740175Z",
     "shell.execute_reply": "2024-04-12T23:22:47.740817Z"
    },
    "papermill": {
     "duration": 0.129859,
     "end_time": "2024-04-12T23:22:47.740999",
     "exception": false,
     "start_time": "2024-04-12T23:22:47.611140",
     "status": "completed"
    },
    "tags": []
   },
   "outputs": [
    {
     "name": "stdout",
     "output_type": "stream",
     "text": [
      "CUDA is available!\n"
     ]
    }
   ],
   "source": [
    "if torch.cuda.is_available():\n",
    "    print(\"CUDA is available!\")\n",
    "else:\n",
    "    print(\"CUDA is not availabe\")\n"
   ]
  },
  {
   "cell_type": "code",
   "execution_count": 3,
   "id": "c5e80b0e",
   "metadata": {
    "execution": {
     "iopub.execute_input": "2024-04-12T23:22:47.772571Z",
     "iopub.status.busy": "2024-04-12T23:22:47.771762Z",
     "iopub.status.idle": "2024-04-12T23:22:47.774210Z",
     "shell.execute_reply": "2024-04-12T23:22:47.773507Z"
    },
    "papermill": {
     "duration": 0.021851,
     "end_time": "2024-04-12T23:22:47.774358",
     "exception": false,
     "start_time": "2024-04-12T23:22:47.752507",
     "status": "completed"
    },
    "tags": []
   },
   "outputs": [],
   "source": [
    "\n",
    "class GeneticDataset(Dataset):\n",
    "    def __init__(self,root_folder, transform =None):\n",
    "        self.root_folder = root_folder\n",
    "        self.transform = transform\n",
    "        self.class_labels = sorted(os.listdir(root_folder))\n",
    "        self.class_to_idx = {label: idx for idx ,label in enumerate(self.class_labels)}\n",
    "        self.file_list = self._build_file_list()\n",
    "    \n",
    "    def _build_file_list(self):\n",
    "        file_list = []\n",
    "        for class_label in self.class_labels:\n",
    "            class_path = os.path.join(self.root_folder,class_label)\n",
    "            class_image = [os.path.join(class_path,image_path) for image_path in os.listdir(class_path)]\n",
    "            file_list.extend(class_image)\n",
    "        return file_list\n",
    "    \n",
    "    def __len__(self):\n",
    "        return len(self.file_list)\n",
    "    \n",
    "    def __getitem__(self,index):\n",
    "        file_path = self.file_list[index]\n",
    "        image = Image.open(file_path)\n",
    "        image = image.convert(\"RGB\")\n",
    "        resized_image = image.resize((200,200))\n",
    "        class_label = os.path.basename(os.path.dirname(file_path))\n",
    "        label = self.class_to_idx[class_label]\n",
    "        if self.root_folder.find(\"training\") != -1:\n",
    "            find = re.match(r\".+?[_].+?[_].+?[_](.+?)[.][p][n][g]\",file_path)\n",
    "        else:\n",
    "            find = re.match(r\".+?[_].+?[_](.+?)[.][p][n][g]\",file_path)\n",
    "        if (self.transform) :\n",
    "            resized_image = self.transform(resized_image)\n",
    "        return {'image': resized_image, 'label': label, \"coefficient\" : float(find[1]) }"
   ]
  },
  {
   "cell_type": "code",
   "execution_count": 4,
   "id": "5b34b73c",
   "metadata": {
    "execution": {
     "iopub.execute_input": "2024-04-12T23:22:47.806904Z",
     "iopub.status.busy": "2024-04-12T23:22:47.806040Z",
     "iopub.status.idle": "2024-04-12T23:22:47.846618Z",
     "shell.execute_reply": "2024-04-12T23:22:47.847268Z"
    },
    "papermill": {
     "duration": 0.061584,
     "end_time": "2024-04-12T23:22:47.847464",
     "exception": false,
     "start_time": "2024-04-12T23:22:47.785880",
     "status": "completed"
    },
    "tags": []
   },
   "outputs": [],
   "source": [
    "transform = transforms.Compose([\n",
    "    transforms.ToTensor(),\n",
    "    transforms.Normalize(mean=[0.5, 0.5, 0.5], std=[0.5, 0.5, 0.5])\n",
    "])\n",
    "\n",
    "\n",
    "data = GeneticDataset(\"/home/jaskaran/data_images\", transform= transform)\n",
    "generator = torch.Generator().manual_seed(46)\n",
    "length_data = len(data)\n",
    "training_size = int(0.8*length_data)\n",
    "testing_size = length_data - training_size\n",
    "\n",
    "total_samples = 6000\n",
    "\n",
    "\n",
    "\n",
    "indices = np.random.choice(len(data), total_samples, replace=False)\n",
    "\n",
    "# Create a subset of the dataset using the random indices\n",
    "subset_data = torch.utils.data.Subset(data, indices)\n",
    "\n",
    "\n",
    "\n",
    "\n",
    "train_data , test_data = random_split(subset_data,[4800, 1200],generator=generator)\n",
    "\n",
    "training_dataloader= DataLoader(train_data,batch_size=64,shuffle=True, drop_last=True)\n",
    "testing_dataloader = DataLoader(test_data,batch_size=64,shuffle=True, drop_last=True)\n",
    "\n"
   ]
  },
  {
   "cell_type": "code",
   "execution_count": 5,
   "id": "551f5a3f",
   "metadata": {
    "execution": {
     "iopub.execute_input": "2024-04-12T23:22:47.875755Z",
     "iopub.status.busy": "2024-04-12T23:22:47.874907Z",
     "iopub.status.idle": "2024-04-12T23:22:48.037162Z",
     "shell.execute_reply": "2024-04-12T23:22:48.037889Z"
    },
    "papermill": {
     "duration": 0.178527,
     "end_time": "2024-04-12T23:22:48.038129",
     "exception": false,
     "start_time": "2024-04-12T23:22:47.859602",
     "status": "completed"
    },
    "tags": []
   },
   "outputs": [
    {
     "data": {
      "text/plain": [
       "4800"
      ]
     },
     "execution_count": 5,
     "metadata": {},
     "output_type": "execute_result"
    }
   ],
   "source": [
    "train_data[1599][\"image\"].shape\n",
    "len(train_data)"
   ]
  },
  {
   "cell_type": "code",
   "execution_count": 6,
   "id": "8a560568",
   "metadata": {
    "execution": {
     "iopub.execute_input": "2024-04-12T23:22:48.070357Z",
     "iopub.status.busy": "2024-04-12T23:22:48.069633Z",
     "iopub.status.idle": "2024-04-12T23:22:48.071088Z",
     "shell.execute_reply": "2024-04-12T23:22:48.071655Z"
    },
    "papermill": {
     "duration": 0.020328,
     "end_time": "2024-04-12T23:22:48.071801",
     "exception": false,
     "start_time": "2024-04-12T23:22:48.051473",
     "status": "completed"
    },
    "tags": []
   },
   "outputs": [],
   "source": [
    "class CNN(nn.Module):\n",
    "    \n",
    "    def __init__(self):\n",
    "        super(CNN, self).__init__()\n",
    "        self.conv1 = nn.Conv2d(in_channels=3, \n",
    "                               out_channels=8,\n",
    "                               kernel_size=7, \n",
    "                               stride= 1,\n",
    "                               padding = 7)\n",
    "        self.relu = nn.ReLU(inplace=True)\n",
    "        self.softmax = nn.Softmax()\n",
    "        self.maxpool = nn.MaxPool2d(kernel_size =2,\n",
    "                                    stride=2)\n",
    "        #self.conv2 = nn.Conv2d(in_channels = 8,\n",
    "                               #out_channels = 32,\n",
    "                               #kernel_size = 2,\n",
    "                               #stride = 1,\n",
    "                               #padding = 2)\n",
    "        self.fc1 = nn.Linear(86528,256)\n",
    "        self.fc2 = nn.Linear(256,128)\n",
    "        self.fc3 = nn.Linear(128,2)\n",
    "        self.flatten = nn.Flatten(start_dim=1)\n",
    "        self.softmax = nn.Softmax(dim=1)\n",
    "        self.dropout = nn.Dropout(p=0.2)\n",
    "    \n",
    "    def forward(self, x):\n",
    "       x = self.conv1(x)\n",
    "       x = self.relu(x)\n",
    "       x = self.maxpool(x)\n",
    "    \n",
    "       #x = self.conv2(x)\n",
    "       #x = self.relu(x)\n",
    "       #x = self.maxpool(x)\n",
    "    \n",
    "       x = self.flatten(x)\n",
    "    \n",
    "       x = self.fc1(x)\n",
    "       x = self.relu(x)\n",
    "       x = self.dropout(x)\n",
    "    \n",
    "       x = self.fc2(x)\n",
    "       x = self.relu(x)\n",
    "       x = self.dropout(x)\n",
    "    \n",
    "       x = self.fc3(x)\n",
    "    \n",
    "       return x\n"
   ]
  },
  {
   "cell_type": "code",
   "execution_count": 7,
   "id": "3c1ce59d",
   "metadata": {
    "execution": {
     "iopub.execute_input": "2024-04-12T23:22:48.101998Z",
     "iopub.status.busy": "2024-04-12T23:22:48.101330Z",
     "iopub.status.idle": "2024-04-13T01:41:55.038063Z",
     "shell.execute_reply": "2024-04-13T01:41:55.038755Z"
    },
    "papermill": {
     "duration": 8346.95586,
     "end_time": "2024-04-13T01:41:55.038968",
     "exception": false,
     "start_time": "2024-04-12T23:22:48.083108",
     "status": "completed"
    },
    "tags": []
   },
   "outputs": [
    {
     "name": "stdout",
     "output_type": "stream",
     "text": [
      "Epoch 1/20,loss : 0.69 Accuracy: 48.44%\n"
     ]
    },
    {
     "name": "stdout",
     "output_type": "stream",
     "text": [
      "Epoch 2/20,loss : 0.72 Accuracy: 68.66%\n"
     ]
    },
    {
     "name": "stdout",
     "output_type": "stream",
     "text": [
      "Epoch 3/20,loss : 0.68 Accuracy: 48.35%\n"
     ]
    },
    {
     "name": "stdout",
     "output_type": "stream",
     "text": [
      "Epoch 4/20,loss : 0.38 Accuracy: 52.00%\n"
     ]
    },
    {
     "name": "stdout",
     "output_type": "stream",
     "text": [
      "Epoch 5/20,loss : 0.41 Accuracy: 90.28%\n"
     ]
    },
    {
     "name": "stdout",
     "output_type": "stream",
     "text": [
      "Epoch 6/20,loss : 0.27 Accuracy: 86.11%\n"
     ]
    },
    {
     "name": "stdout",
     "output_type": "stream",
     "text": [
      "Epoch 7/20,loss : 0.37 Accuracy: 88.80%\n"
     ]
    },
    {
     "name": "stdout",
     "output_type": "stream",
     "text": [
      "Epoch 8/20,loss : 0.35 Accuracy: 90.54%\n"
     ]
    },
    {
     "name": "stdout",
     "output_type": "stream",
     "text": [
      "Epoch 9/20,loss : 0.56 Accuracy: 92.27%\n"
     ]
    },
    {
     "name": "stdout",
     "output_type": "stream",
     "text": [
      "Epoch 10/20,loss : 0.19 Accuracy: 91.15%\n"
     ]
    },
    {
     "name": "stdout",
     "output_type": "stream",
     "text": [
      "Epoch 11/20,loss : 0.30 Accuracy: 90.54%\n"
     ]
    },
    {
     "name": "stdout",
     "output_type": "stream",
     "text": [
      "Epoch 12/20,loss : 0.19 Accuracy: 74.31%\n"
     ]
    },
    {
     "name": "stdout",
     "output_type": "stream",
     "text": [
      "Epoch 13/20,loss : 0.33 Accuracy: 90.54%\n"
     ]
    },
    {
     "name": "stdout",
     "output_type": "stream",
     "text": [
      "Epoch 14/20,loss : 0.13 Accuracy: 92.62%\n"
     ]
    },
    {
     "name": "stdout",
     "output_type": "stream",
     "text": [
      "Epoch 15/20,loss : 0.11 Accuracy: 91.15%\n"
     ]
    },
    {
     "name": "stdout",
     "output_type": "stream",
     "text": [
      "Epoch 16/20,loss : 0.15 Accuracy: 92.62%\n"
     ]
    },
    {
     "name": "stdout",
     "output_type": "stream",
     "text": [
      "Epoch 17/20,loss : 0.27 Accuracy: 94.70%\n"
     ]
    },
    {
     "name": "stdout",
     "output_type": "stream",
     "text": [
      "Epoch 18/20,loss : 0.45 Accuracy: 95.05%\n"
     ]
    },
    {
     "name": "stdout",
     "output_type": "stream",
     "text": [
      "Epoch 19/20,loss : 0.46 Accuracy: 93.40%\n"
     ]
    },
    {
     "name": "stdout",
     "output_type": "stream",
     "text": [
      "Epoch 20/20,loss : 0.23 Accuracy: 93.06%\n",
      "Model is trained\n"
     ]
    }
   ],
   "source": [
    "# Set seed for CPU operations\n",
    "torch.manual_seed(45)\n",
    "\n",
    "# Check if CUDA is available\n",
    "if torch.cuda.is_available():\n",
    "    # Set seed for CUDA operations\n",
    "    torch.cuda.manual_seed(45)\n",
    "    torch.cuda.manual_seed_all(45)  \n",
    "    torch.backends.cudnn.deterministic = True\n",
    "    torch.backends.cudnn.benchmark = False\n",
    "model = CNN()\n",
    "criterion = nn.CrossEntropyLoss()\n",
    "optimizer = optim.Adam(model.parameters(), lr=0.001)\n",
    "model.to(\"cuda:3\")\n",
    "num_epochs = 20\n",
    "\n",
    "for epoch in range(num_epochs):\n",
    "    model.train()\n",
    "    \n",
    "    for batch in training_dataloader:\n",
    "        images = batch['image'].to(\"cuda:3\")\n",
    "        labels = batch['label'].to(\"cuda:3\")  # Ensure labels are also moved to GPU\n",
    "        optimizer.zero_grad()\n",
    "        outputs = model(images)\n",
    "        loss = criterion(outputs, labels)\n",
    "        loss.backward()\n",
    "        optimizer.step()\n",
    "    \n",
    "    model.eval()\n",
    "    correct = 0\n",
    "    total = 0\n",
    "    \n",
    "    with torch.no_grad():\n",
    "        for batch in testing_dataloader:\n",
    "            images = batch['image'].to(\"cuda:3\")\n",
    "            labels = batch['label'].to(\"cuda:3\")\n",
    "            output = model(images)\n",
    "            _, predicted = torch.max(output.data, 1)\n",
    "            total += labels.size(0)\n",
    "            correct += (predicted == labels).sum().item()\n",
    "            \n",
    "    accuracy = correct / total \n",
    "    print(f'Epoch {epoch + 1}/{num_epochs},loss : {loss:.2f} Accuracy: {accuracy:.2%}')\n",
    "\n",
    "print(\"Model is trained\")"
   ]
  },
  {
   "cell_type": "code",
   "execution_count": 8,
   "id": "a845a020",
   "metadata": {
    "execution": {
     "iopub.execute_input": "2024-04-13T01:41:55.088199Z",
     "iopub.status.busy": "2024-04-13T01:41:55.087412Z",
     "iopub.status.idle": "2024-04-13T01:41:55.203369Z",
     "shell.execute_reply": "2024-04-13T01:41:55.202698Z"
    },
    "papermill": {
     "duration": 0.141731,
     "end_time": "2024-04-13T01:41:55.203522",
     "exception": false,
     "start_time": "2024-04-13T01:41:55.061791",
     "status": "completed"
    },
    "tags": []
   },
   "outputs": [],
   "source": [
    "#print(model.state_dict())\n",
    "torch.save(model.state_dict(), f'model_state_dict_6000_1conv_0.001_7*7_8_filter_images.pth')"
   ]
  }
 ],
 "metadata": {
  "kernelspec": {
   "display_name": "Python 3",
   "language": "python",
   "name": "python3"
  },
  "language_info": {
   "codemirror_mode": {
    "name": "ipython",
    "version": 3
   },
   "file_extension": ".py",
   "mimetype": "text/x-python",
   "name": "python",
   "nbconvert_exporter": "python",
   "pygments_lexer": "ipython3",
   "version": "3.6.8"
  },
  "papermill": {
   "default_parameters": {},
   "duration": 8351.025691,
   "end_time": "2024-04-13T01:41:56.165809",
   "environment_variables": {},
   "exception": null,
   "input_path": "/home/jaskaran/training_notebooks/training.ipynb",
   "output_path": "/home/jaskaran/training_notebooks/training_completed.ipynb",
   "parameters": {},
   "start_time": "2024-04-12T23:22:45.140118",
   "version": "2.3.4"
  }
 },
 "nbformat": 4,
 "nbformat_minor": 5
}