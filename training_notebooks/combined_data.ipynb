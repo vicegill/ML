{
 "cells": [
  {
   "cell_type": "code",
   "execution_count": 1,
   "metadata": {},
   "outputs": [
    {
     "name": "stderr",
     "output_type": "stream",
     "text": [
      "/home/jaskaran/.conda/envs/training/lib/python3.6/site-packages/tqdm/auto.py:22: TqdmWarning: IProgress not found. Please update jupyter and ipywidgets. See https://ipywidgets.readthedocs.io/en/stable/user_install.html\n",
      "  from .autonotebook import tqdm as notebook_tqdm\n"
     ]
    }
   ],
   "source": [
    "## Loading required libraries\n",
    "import torch\n",
    "import torch.optim as optim\n",
    "import torch.nn as nn\n",
    "import os\n",
    "from torch.utils.data import Dataset, DataLoader , random_split\n",
    "from torchvision import transforms , datasets\n",
    "from PIL import Image\n",
    "import pandas as pd\n",
    "import re\n",
    "import random\n",
    "import shutil\n",
    "import matplotlib.pyplot as plt\n",
    "from sklearn.model_selection import KFold\n",
    "import numpy as np\n",
    "import pandas as pd"
   ]
  },
  {
   "cell_type": "code",
   "execution_count": 2,
   "metadata": {},
   "outputs": [
    {
     "name": "stdout",
     "output_type": "stream",
     "text": [
      "CUDA is available!\n"
     ]
    }
   ],
   "source": [
    "##checking if CUDA is available\n",
    "\n",
    "\n",
    "if torch.cuda.is_available():\n",
    "    print(\"CUDA is available!\")\n",
    "else:\n",
    "    print(\"CUDA is not availabe\")\n",
    "\n",
    "meta_files = os.listdir(\"/home/jaskaran/data_selection/meta_file\")\n",
    "dfs = []"
   ]
  },
  {
   "cell_type": "code",
   "execution_count": 4,
   "metadata": {},
   "outputs": [],
   "source": [
    "## custom class for the dataset\n",
    "class GeneticDataset(Dataset):\n",
    "    def __init__(self,root_folder, transform =None):\n",
    "        self.root_folder = root_folder\n",
    "        self.transform = transform\n",
    "        self.class_labels = sorted(os.listdir(root_folder))\n",
    "        self.class_to_idx = {label: idx for idx ,label in enumerate(self.class_labels)}\n",
    "        self.file_list = self._build_file_list()\n",
    "    \n",
    "    def _build_file_list(self):\n",
    "        file_list = []\n",
    "        for class_label in self.class_labels:\n",
    "            class_path = os.path.join(self.root_folder,class_label)\n",
    "            class_image = [os.path.join(class_path,image_path) for image_path in os.listdir(class_path)]\n",
    "            file_list.extend(class_image)\n",
    "        return file_list\n",
    "    \n",
    "    def __len__(self):\n",
    "        return len(self.file_list)\n",
    "    \n",
    "    def __getitem__(self,index):\n",
    "        file_path = self.file_list[index]\n",
    "        array = np.loadtxt(file_path)\n",
    "        class_label = os.path.basename(os.path.dirname(file_path))\n",
    "        label = self.class_to_idx[class_label]\n",
    "        find = re.match(r\".+?[_].+?[_].+?[_](.+?)[.][t][x][t]\",file_path)\n",
    "        if label == 0:\n",
    "            matrix = np.loadtxt(F\"/home/jaskaran/data_matrix/bottleneck/matrix_{find[1]}.txt\")\n",
    "        if label == 1:\n",
    "            matrix = np.loadtxt(F\"/home/jaskaran/data_matrix/selection/matrix_{find[1]}.txt\")\n",
    "        mean = np.mean(array)\n",
    "        std = np.std(array)\n",
    "        array = (array - mean) / std\n",
    "        array = torch.from_numpy(array)\n",
    "\n",
    "        mean1 = np.mean(matrix)\n",
    "        std1 = np.std(matrix)\n",
    "        matrix = (matrix - mean1) / std1\n",
    "        matrix= torch.from_numpy(matrix)\n",
    "        \n",
    "        return {'matrix': matrix, 'label': label, \"coefficient\" : float(find[1]) , \"array\" : array}\n"
   ]
  },
  {
   "cell_type": "code",
   "execution_count": 5,
   "metadata": {},
   "outputs": [],
   "source": [
    "transform = transforms.Compose([transforms.ToTensor(),\n",
    "                                transforms.Normalize(mean=(0.5,0.5,0.5),std=(0.5,0.5,0.5))])\n",
    "combined_data = GeneticDataset(root_folder=\"/home/jaskaran/data_arrays\", transform= transform)\n",
    "\n",
    "length_combined_data = len(combined_data)\n",
    "training_data_len = int(0.8*length_combined_data)\n",
    "testing_data_len = length_combined_data - training_data_len\n",
    "generator = torch.Generator().manual_seed(46)\n",
    "training_data , testing_data = random_split(combined_data,[training_data_len,testing_data_len],generator=generator)\n",
    "\n",
    "training_data_loader = DataLoader(training_data,batch_size=32,shuffle=True, drop_last=True)\n",
    "testing_data_loader = DataLoader(testing_data, batch_size=32, shuffle=True, drop_last=True ) \n"
   ]
  },
  {
   "cell_type": "code",
   "execution_count": 6,
   "metadata": {},
   "outputs": [
    {
     "data": {
      "text/plain": [
       "{'matrix': tensor([[-0.0924, -0.0749, -0.0574,  ..., 17.3477, 17.3652, 17.3827],\n",
       "         [-0.0924, -0.0924, -0.0924,  ..., -0.0574, -0.0574, -0.0924],\n",
       "         [-0.0924, -0.0924, -0.0924,  ..., -0.0574, -0.0574, -0.0924],\n",
       "         ...,\n",
       "         [-0.0924, -0.0924, -0.0924,  ..., -0.0749, -0.0749, -0.0924],\n",
       "         [-0.0924, -0.0924, -0.0924,  ..., -0.0574, -0.0574, -0.0924],\n",
       "         [-0.0924, -0.0924, -0.0924,  ..., -0.0574, -0.0574, -0.0924]],\n",
       "        dtype=torch.float64),\n",
       " 'label': 0,\n",
       " 'coefficient': 0.748,\n",
       " 'array': tensor([[-0.2235,  6.4625,  2.0052,  ..., -0.2235, -0.2235, -0.2235],\n",
       "         [-0.2235,  2.0052, -0.2235,  ..., -0.2235, -0.2235, -0.2235],\n",
       "         [-0.2235,  2.0052, -0.2235,  ..., -0.2235, -0.2235, -0.2235],\n",
       "         ...,\n",
       "         [-0.2235, -0.2235,  6.4625,  ..., -0.2235, -0.2235, -0.2235],\n",
       "         [-0.2235,  4.2338, -0.2235,  ..., -0.2235, -0.2235, -0.2235],\n",
       "         [-0.2235, -0.2235,  2.0052,  ..., -0.2235, -0.2235, -0.2235]],\n",
       "        dtype=torch.float64)}"
      ]
     },
     "execution_count": 6,
     "metadata": {},
     "output_type": "execute_result"
    }
   ],
   "source": [
    "testing_data[1]"
   ]
  },
  {
   "cell_type": "code",
   "execution_count": 11,
   "metadata": {},
   "outputs": [],
   "source": [
    "class multimodalCNN(nn.Module):\n",
    "\n",
    "    def __init__(self):\n",
    "        super(multimodalCNN,self).__init__()\n",
    "        self.matrix_CNN = nn.Sequential(\n",
    "            nn.Conv2d(in_channels=1 , out_channels = 16, kernel_size=(9,15),stride=1,padding=15),\n",
    "            nn.ReLU(),\n",
    "            nn.MaxPool2d(kernel_size=2),\n",
    "            nn.Flatten(start_dim=1))\n",
    "        self.array_CNN = nn.Sequential(\n",
    "            nn.Conv2d(in_channels=1,out_channels = 32,kernel_size = 9,stride = 1,padding = 9),\n",
    "            nn.ReLU(),\n",
    "            nn.MaxPool2d(kernel_size=2),\n",
    "            nn.Flatten(start_dim=1))\n",
    "        self.fc1 = nn.Linear(591632,256)\n",
    "        self.fc2 = nn.Linear(256,128)\n",
    "        self.fc3 = nn.Linear(128,2)\n",
    "        self.dropout = nn.Dropout(p=0.2)\n",
    "        self.relu = nn.ReLU()\n",
    "    \n",
    "    def forward(self,matrix,array):\n",
    "        array = array.float()\n",
    "        matrix = matrix.float()\n",
    "        image_features = self.matrix_CNN(matrix)\n",
    "        array_features = self.array_CNN(array)\n",
    "        combined_features = torch.cat((image_features, array_features), dim=1)\n",
    "\n",
    "        x = self.fc1(combined_features)\n",
    "        x = self.relu(x)\n",
    "        x = self.dropout(x)\n",
    "\n",
    "        x = self.fc2(x)\n",
    "        x = self.relu(x)\n",
    "        x = self.dropout(x)\n",
    "\n",
    "        x = self.fc3(x)\n",
    "        return(x)\n"
   ]
  },
  {
   "cell_type": "code",
   "execution_count": 12,
   "metadata": {},
   "outputs": [
    {
     "name": "stdout",
     "output_type": "stream",
     "text": [
      "Epoch : 0 , Loss : 0.12 , accuracy : 97.53%\n",
      "Epoch : 1 , Loss : 0.09 , accuracy : 98.44%\n",
      "Epoch : 2 , Loss : 0.07 , accuracy : 98.59%\n",
      "Epoch : 3 , Loss : 0.06 , accuracy : 98.14%\n",
      "Epoch : 4 , Loss : 0.05 , accuracy : 98.49%\n"
     ]
    }
   ],
   "source": [
    "torch.manual_seed(44)\n",
    "\n",
    "if torch.cuda.is_available():\n",
    "    torch.cuda.manual_seed(46)\n",
    "    torch.cuda.manual_seed_all(46)\n",
    "    torch.backends.cudnn.benchmark = False\n",
    "    torch.backends.cudnn.deterministic = True\n",
    "\n",
    "model = multimodalCNN()\n",
    "model = model.to(\"cuda:1\")\n",
    "\n",
    "criterion = nn.CrossEntropyLoss()\n",
    "optimiser = optim.Adam(model.parameters(),lr = 0.0001)\n",
    "\n",
    "num_epochs = 10\n",
    "\n",
    "for epoch in range(num_epochs):\n",
    "    model.train()\n",
    "    total_loss = 0.0\n",
    "\n",
    "    for batch in training_data_loader:\n",
    "        matrix = batch[\"matrix\"].to(\"cuda:1\")\n",
    "        matrix = matrix.unsqueeze(1)\n",
    "        arrays = batch[\"array\"]\n",
    "        arrays = arrays.unsqueeze(1)\n",
    "        arrays = arrays.to(\"cuda:1\")\n",
    "        labels = batch[\"label\"].to(\"cuda:1\")\n",
    "        optimiser.zero_grad()\n",
    "        output = model(array= arrays , matrix = matrix)\n",
    "        loss = criterion(output,labels)\n",
    "        loss.backward()\n",
    "        optimiser.step()\n",
    "        total_loss += loss.item() * labels.size(0)  # Multiply by batch size\n",
    "    \n",
    "    # Calculate average loss over all batches\n",
    "    average_loss = total_loss / len(training_data_loader.dataset)\n",
    "    \n",
    "    model.eval()\n",
    "\n",
    "    correct = 0\n",
    "    total = 0\n",
    "\n",
    "    for batch in testing_data_loader:\n",
    "        matrix = batch[\"matrix\"].to(\"cuda:1\")\n",
    "        matrix = matrix.unsqueeze(1)\n",
    "        arrays = batch[\"array\"]\n",
    "        arrays = arrays.unsqueeze(1)\n",
    "        arrays = arrays.to(\"cuda:1\")\n",
    "        labels = batch[\"label\"].to(\"cuda:1\")\n",
    "        optimiser.zero_grad()\n",
    "        output = model(array= arrays , matrix = matrix)\n",
    "        _ , predicted = torch.max(output.data,1)\n",
    "        total += labels.size(0)\n",
    "        correct += (predicted == labels).sum().item()\n",
    "\n",
    "    accuracy = correct/total\n",
    "\n",
    "    print(f\"Epoch : {epoch} , Loss : {average_loss:.2f} , accuracy : {accuracy:.2%}\")\n",
    "\n",
    "print(\"Model is trained\")"
   ]
  },
  {
   "cell_type": "code",
   "execution_count": null,
   "metadata": {},
   "outputs": [],
   "source": [
    "torch.save(model.state_dict(), f'model_state_dict_combined_data.pth')"
   ]
  }
 ],
 "metadata": {
  "kernelspec": {
   "display_name": "training",
   "language": "python",
   "name": "python3"
  },
  "language_info": {
   "codemirror_mode": {
    "name": "ipython",
    "version": 3
   },
   "file_extension": ".py",
   "mimetype": "text/x-python",
   "name": "python",
   "nbconvert_exporter": "python",
   "pygments_lexer": "ipython3",
   "version": "3.6.8"
  }
 },
 "nbformat": 4,
 "nbformat_minor": 2
}
