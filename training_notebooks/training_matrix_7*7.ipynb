{
 "cells": [
  {
   "cell_type": "code",
   "execution_count": 1,
   "id": "998550f6",
   "metadata": {
    "execution": {
     "iopub.execute_input": "2024-04-13T02:23:23.091976Z",
     "iopub.status.busy": "2024-04-13T02:23:23.091167Z",
     "iopub.status.idle": "2024-04-13T02:23:24.681133Z",
     "shell.execute_reply": "2024-04-13T02:23:24.681733Z"
    },
    "papermill": {
     "duration": 1.614467,
     "end_time": "2024-04-13T02:23:24.681955",
     "exception": false,
     "start_time": "2024-04-13T02:23:23.067488",
     "status": "completed"
    },
    "tags": []
   },
   "outputs": [
    {
     "name": "stderr",
     "output_type": "stream",
     "text": [
      "/home/jaskaran/.conda/envs/training/lib/python3.6/site-packages/tqdm/auto.py:22: TqdmWarning: IProgress not found. Please update jupyter and ipywidgets. See https://ipywidgets.readthedocs.io/en/stable/user_install.html\n",
      "  from .autonotebook import tqdm as notebook_tqdm\n"
     ]
    }
   ],
   "source": [
    "import torch\n",
    "import torch.optim as optim\n",
    "import torch.nn as nn\n",
    "import os\n",
    "from torch.utils.data import Dataset, DataLoader , random_split\n",
    "from torchvision import transforms , datasets\n",
    "from PIL import Image\n",
    "import pandas as pd\n",
    "import re\n",
    "import random\n",
    "import shutil\n",
    "import matplotlib.pyplot as plt\n",
    "from sklearn.model_selection import KFold\n",
    "import numpy as np\n",
    "\n"
   ]
  },
  {
   "cell_type": "code",
   "execution_count": 2,
   "id": "4a13459d",
   "metadata": {
    "execution": {
     "iopub.execute_input": "2024-04-13T02:23:24.798743Z",
     "iopub.status.busy": "2024-04-13T02:23:24.797879Z",
     "iopub.status.idle": "2024-04-13T02:23:24.800601Z",
     "shell.execute_reply": "2024-04-13T02:23:24.801264Z"
    },
    "papermill": {
     "duration": 0.106691,
     "end_time": "2024-04-13T02:23:24.801432",
     "exception": false,
     "start_time": "2024-04-13T02:23:24.694741",
     "status": "completed"
    },
    "tags": []
   },
   "outputs": [
    {
     "name": "stdout",
     "output_type": "stream",
     "text": [
      "CUDA is available!\n"
     ]
    }
   ],
   "source": [
    "if torch.cuda.is_available():\n",
    "    print(\"CUDA is available!\")\n",
    "else:\n",
    "    print(\"CUDA is not availabe\")\n"
   ]
  },
  {
   "cell_type": "code",
   "execution_count": 3,
   "id": "def20586",
   "metadata": {
    "execution": {
     "iopub.execute_input": "2024-04-13T02:23:24.834295Z",
     "iopub.status.busy": "2024-04-13T02:23:24.833438Z",
     "iopub.status.idle": "2024-04-13T02:23:24.836011Z",
     "shell.execute_reply": "2024-04-13T02:23:24.835247Z"
    },
    "papermill": {
     "duration": 0.022808,
     "end_time": "2024-04-13T02:23:24.836158",
     "exception": false,
     "start_time": "2024-04-13T02:23:24.813350",
     "status": "completed"
    },
    "tags": []
   },
   "outputs": [],
   "source": [
    "\n",
    "class GeneticMatrixDataset(Dataset):\n",
    "    def __init__(self,root_folder, transform =None):\n",
    "        self.root_folder = root_folder\n",
    "        self.transform = transform\n",
    "        self.class_labels = sorted(os.listdir(root_folder))\n",
    "        self.class_to_idx = {label: idx for idx ,label in enumerate(self.class_labels)}\n",
    "        self.file_list = self._build_file_list()\n",
    "    \n",
    "    def _build_file_list(self):\n",
    "        file_list = []\n",
    "        for class_label in self.class_labels:\n",
    "            class_path = os.path.join(self.root_folder,class_label)\n",
    "            class_image = [os.path.join(class_path,image_path) for image_path in os.listdir(class_path)]\n",
    "            file_list.extend(class_image)\n",
    "        return file_list\n",
    "    \n",
    "    def __len__(self):\n",
    "        return len(self.file_list)\n",
    "    \n",
    "    def __getitem__(self,index):\n",
    "        file_path = self.file_list[index]\n",
    "        array = np.loadtxt(file_path)\n",
    "        mean = np.mean(array)\n",
    "        std = np.std(array)\n",
    "        array = (array - mean) / std ##normalized array\n",
    "        class_label = os.path.basename(os.path.dirname(file_path))\n",
    "        label = self.class_to_idx[class_label]\n",
    "        find = re.match(r\".+?[_].+?[_](.+?)[.][t][x][t]\",file_path)\n",
    "        array = torch.from_numpy(array)\n",
    "        return {'array': array, 'label': label, \"coefficient \":find[1]}"
   ]
  },
  {
   "cell_type": "code",
   "execution_count": 4,
   "id": "325f4933",
   "metadata": {
    "execution": {
     "iopub.execute_input": "2024-04-13T02:23:24.865627Z",
     "iopub.status.busy": "2024-04-13T02:23:24.864831Z",
     "iopub.status.idle": "2024-04-13T02:23:24.903081Z",
     "shell.execute_reply": "2024-04-13T02:23:24.903755Z"
    },
    "papermill": {
     "duration": 0.056323,
     "end_time": "2024-04-13T02:23:24.903920",
     "exception": false,
     "start_time": "2024-04-13T02:23:24.847597",
     "status": "completed"
    },
    "tags": []
   },
   "outputs": [],
   "source": [
    "\n",
    "\n",
    "\n",
    "data = GeneticMatrixDataset(\"/home/jaskaran/data_matrix\")\n",
    "generator = torch.Generator().manual_seed(46)\n",
    "length_data = len(data)\n",
    "training_size = int(0.8*length_data)\n",
    "testing_size = length_data - training_size\n",
    "\n",
    "train_data , test_data = random_split(data,[training_size, testing_size],generator=generator)\n",
    "\n",
    "\n",
    "training_dataloader= DataLoader(train_data,batch_size=32,shuffle=True, drop_last=True)\n",
    "testing_dataloader = DataLoader(test_data,batch_size=32,shuffle=True, drop_last=True)\n",
    "\n"
   ]
  },
  {
   "cell_type": "code",
   "execution_count": 5,
   "id": "248dbbf8",
   "metadata": {
    "execution": {
     "iopub.execute_input": "2024-04-13T02:23:24.931525Z",
     "iopub.status.busy": "2024-04-13T02:23:24.930738Z",
     "iopub.status.idle": "2024-04-13T02:23:25.017379Z",
     "shell.execute_reply": "2024-04-13T02:23:25.016620Z"
    },
    "papermill": {
     "duration": 0.101999,
     "end_time": "2024-04-13T02:23:25.017537",
     "exception": false,
     "start_time": "2024-04-13T02:23:24.915538",
     "status": "completed"
    },
    "tags": []
   },
   "outputs": [
    {
     "data": {
      "text/plain": [
       "torch.Size([101, 999])"
      ]
     },
     "execution_count": 5,
     "metadata": {},
     "output_type": "execute_result"
    }
   ],
   "source": [
    "train_data[1000][\"array\"].shape"
   ]
  },
  {
   "cell_type": "code",
   "execution_count": 6,
   "id": "bbf0322a",
   "metadata": {
    "execution": {
     "iopub.execute_input": "2024-04-13T02:23:25.054183Z",
     "iopub.status.busy": "2024-04-13T02:23:25.053334Z",
     "iopub.status.idle": "2024-04-13T02:23:25.056110Z",
     "shell.execute_reply": "2024-04-13T02:23:25.055352Z"
    },
    "papermill": {
     "duration": 0.024781,
     "end_time": "2024-04-13T02:23:25.056268",
     "exception": false,
     "start_time": "2024-04-13T02:23:25.031487",
     "status": "completed"
    },
    "tags": []
   },
   "outputs": [],
   "source": [
    "class CNN(nn.Module):\n",
    "    \n",
    "    def __init__(self):\n",
    "        super(CNN, self).__init__()\n",
    "        self.conv1 = nn.Conv2d(in_channels=1, \n",
    "                               out_channels=32,\n",
    "                               kernel_size=7, \n",
    "                               stride= 1,\n",
    "                               padding =7)\n",
    "        self.relu = nn.ReLU(inplace=True)\n",
    "        self.softmax = nn.Softmax()\n",
    "        self.maxpool = nn.MaxPool2d(kernel_size =3)\n",
    "        self.fc1 = nn.Linear(385920,256)\n",
    "        self.fc2 = nn.Linear(256,128)\n",
    "        self.fc3 = nn.Linear(128,2)\n",
    "        self.flatten = nn.Flatten(start_dim=1)\n",
    "\n",
    "        self.dropout = nn.Dropout(p=0.2)\n",
    "    \n",
    "    def forward(self,x):\n",
    "        x = x.float()\n",
    "\n",
    "        x = self.conv1(x)\n",
    "        x = self.relu(x)\n",
    "        x = self.maxpool(x)\n",
    "        \n",
    "        x = self.flatten(x)\n",
    "\n",
    "        x = self.fc1(x)\n",
    "        x = self.relu(x)\n",
    "        x = self.dropout(x)\n",
    "\n",
    "        x = self.fc2(x)\n",
    "        x = self.relu(x)\n",
    "        x = self.dropout(x)\n",
    "        \n",
    "        x = self.fc3(x) \n",
    "        return x"
   ]
  },
  {
   "cell_type": "code",
   "execution_count": 7,
   "id": "fd7c7ea3",
   "metadata": {
    "execution": {
     "iopub.execute_input": "2024-04-13T02:23:25.088522Z",
     "iopub.status.busy": "2024-04-13T02:23:25.088139Z",
     "iopub.status.idle": "2024-04-13T05:23:56.368820Z",
     "shell.execute_reply": "2024-04-13T05:23:56.369514Z"
    },
    "papermill": {
     "duration": 10831.300783,
     "end_time": "2024-04-13T05:23:56.369798",
     "exception": false,
     "start_time": "2024-04-13T02:23:25.069015",
     "status": "completed"
    },
    "tags": []
   },
   "outputs": [
    {
     "name": "stdout",
     "output_type": "stream",
     "text": [
      "Epoch 1/20,loss : 0.69 Accuracy: 48.99%\n"
     ]
    },
    {
     "name": "stdout",
     "output_type": "stream",
     "text": [
      "Epoch 2/20,loss : 0.69 Accuracy: 49.19%\n"
     ]
    },
    {
     "name": "stdout",
     "output_type": "stream",
     "text": [
      "Epoch 3/20,loss : 0.69 Accuracy: 49.14%\n"
     ]
    },
    {
     "name": "stdout",
     "output_type": "stream",
     "text": [
      "Epoch 4/20,loss : 0.69 Accuracy: 49.19%\n"
     ]
    },
    {
     "name": "stdout",
     "output_type": "stream",
     "text": [
      "Epoch 5/20,loss : 0.69 Accuracy: 48.94%\n"
     ]
    },
    {
     "name": "stdout",
     "output_type": "stream",
     "text": [
      "Epoch 6/20,loss : 0.70 Accuracy: 48.99%\n"
     ]
    },
    {
     "name": "stdout",
     "output_type": "stream",
     "text": [
      "Epoch 7/20,loss : 0.69 Accuracy: 49.04%\n"
     ]
    },
    {
     "name": "stdout",
     "output_type": "stream",
     "text": [
      "Epoch 8/20,loss : 0.69 Accuracy: 49.19%\n"
     ]
    },
    {
     "name": "stdout",
     "output_type": "stream",
     "text": [
      "Epoch 9/20,loss : 0.69 Accuracy: 49.04%\n"
     ]
    },
    {
     "name": "stdout",
     "output_type": "stream",
     "text": [
      "Epoch 10/20,loss : 0.69 Accuracy: 48.99%\n"
     ]
    },
    {
     "name": "stdout",
     "output_type": "stream",
     "text": [
      "Epoch 11/20,loss : 0.69 Accuracy: 48.94%\n"
     ]
    },
    {
     "name": "stdout",
     "output_type": "stream",
     "text": [
      "Epoch 12/20,loss : 0.69 Accuracy: 49.09%\n"
     ]
    },
    {
     "name": "stdout",
     "output_type": "stream",
     "text": [
      "Epoch 13/20,loss : 0.69 Accuracy: 48.99%\n"
     ]
    },
    {
     "name": "stdout",
     "output_type": "stream",
     "text": [
      "Epoch 14/20,loss : 0.70 Accuracy: 49.14%\n"
     ]
    },
    {
     "name": "stdout",
     "output_type": "stream",
     "text": [
      "Epoch 15/20,loss : 0.69 Accuracy: 49.14%\n"
     ]
    },
    {
     "name": "stdout",
     "output_type": "stream",
     "text": [
      "Epoch 16/20,loss : 0.69 Accuracy: 48.94%\n"
     ]
    },
    {
     "name": "stdout",
     "output_type": "stream",
     "text": [
      "Epoch 17/20,loss : 0.69 Accuracy: 49.04%\n"
     ]
    },
    {
     "name": "stdout",
     "output_type": "stream",
     "text": [
      "Epoch 18/20,loss : 0.69 Accuracy: 49.04%\n"
     ]
    },
    {
     "name": "stdout",
     "output_type": "stream",
     "text": [
      "Epoch 19/20,loss : 0.70 Accuracy: 48.99%\n"
     ]
    },
    {
     "name": "stdout",
     "output_type": "stream",
     "text": [
      "Epoch 20/20,loss : 0.69 Accuracy: 49.19%\n",
      "Model is trained\n"
     ]
    }
   ],
   "source": [
    "# Set seed for CPU operations\n",
    "torch.manual_seed(45)\n",
    "\n",
    "# Check if CUDA is available\n",
    "if torch.cuda.is_available():\n",
    "    # Set seed for CUDA operations\n",
    "    torch.cuda.manual_seed(45)\n",
    "    torch.cuda.manual_seed_all(45)  \n",
    "    torch.backends.cudnn.deterministic = True\n",
    "    torch.backends.cudnn.benchmark = False\n",
    "model = CNN()\n",
    "criterion = nn.CrossEntropyLoss()\n",
    "optimizer = optim.Adam(model.parameters(), lr=0.0001)\n",
    "model.to(\"cuda:0\")\n",
    "num_epochs = 20\n",
    "\n",
    "for epoch in range(num_epochs):\n",
    "    model.train()\n",
    "    \n",
    "    for batch in training_dataloader:\n",
    "        matrix = batch['array']\n",
    "        matrix = matrix.unsqueeze(1)\n",
    "        matrix = matrix.to(\"cuda:0\")\n",
    "        labels = batch['label'].to(\"cuda:0\")  # Ensure labels are also moved to GPU\n",
    "        optimizer.zero_grad()\n",
    "        outputs = model(matrix)\n",
    "        loss = criterion(outputs, labels)\n",
    "        loss.backward()\n",
    "        optimizer.step()\n",
    "    \n",
    "    model.eval()\n",
    "    correct = 0\n",
    "    total = 0\n",
    "    \n",
    "    with torch.no_grad():\n",
    "        for batch in testing_dataloader:\n",
    "            matrix = batch['array']\n",
    "            matrix = matrix.unsqueeze(1)\n",
    "            matrix = matrix.to(\"cuda:0\")\n",
    "            labels = batch['label'].to(\"cuda:0\")\n",
    "            output = model(matrix)\n",
    "            _, predicted = torch.max(output.data, 1)\n",
    "            total += labels.size(0)\n",
    "            correct += (predicted == labels).sum().item()\n",
    "            \n",
    "    accuracy = correct / total \n",
    "    print(f'Epoch {epoch + 1}/{num_epochs},loss : {loss:.2f} Accuracy: {accuracy:.2%}')\n",
    "\n",
    "print(\"Model is trained\")"
   ]
  },
  {
   "cell_type": "code",
   "execution_count": 8,
   "id": "2a506f2a",
   "metadata": {
    "execution": {
     "iopub.execute_input": "2024-04-13T05:23:56.418179Z",
     "iopub.status.busy": "2024-04-13T05:23:56.417393Z",
     "iopub.status.idle": "2024-04-13T05:23:56.943712Z",
     "shell.execute_reply": "2024-04-13T05:23:56.943055Z"
    },
    "papermill": {
     "duration": 0.551782,
     "end_time": "2024-04-13T05:23:56.943873",
     "exception": false,
     "start_time": "2024-04-13T05:23:56.392091",
     "status": "completed"
    },
    "tags": []
   },
   "outputs": [],
   "source": [
    "torch.save(model.state_dict(), f'model_state_dict_matrix_lr_0.0001_7*7_dropout_0.2.pth')"
   ]
  }
 ],
 "metadata": {
  "kernelspec": {
   "display_name": "training",
   "language": "python",
   "name": "python3"
  },
  "language_info": {
   "codemirror_mode": {
    "name": "ipython",
    "version": 3
   },
   "file_extension": ".py",
   "mimetype": "text/x-python",
   "name": "python",
   "nbconvert_exporter": "python",
   "pygments_lexer": "ipython3",
   "version": "3.6.8"
  },
  "papermill": {
   "default_parameters": {},
   "duration": 10835.702624,
   "end_time": "2024-04-13T05:23:57.910020",
   "environment_variables": {},
   "exception": null,
   "input_path": "/home/jaskaran/training_notebooks/training_matrix.ipynb",
   "output_path": "/home/jaskaran/training_notebooks/training_matrix_7*7.ipynb",
   "parameters": {},
   "start_time": "2024-04-13T02:23:22.207396",
   "version": "2.3.4"
  }
 },
 "nbformat": 4,
 "nbformat_minor": 5
}