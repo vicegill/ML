{
 "cells": [
  {
   "cell_type": "code",
   "execution_count": 1,
   "id": "8ef3a50c",
   "metadata": {
    "execution": {
     "iopub.execute_input": "2024-04-12T23:25:22.327726Z",
     "iopub.status.busy": "2024-04-12T23:25:22.326809Z",
     "iopub.status.idle": "2024-04-12T23:25:23.895326Z",
     "shell.execute_reply": "2024-04-12T23:25:23.896174Z"
    },
    "papermill": {
     "duration": 1.598962,
     "end_time": "2024-04-12T23:25:23.896398",
     "exception": false,
     "start_time": "2024-04-12T23:25:22.297436",
     "status": "completed"
    },
    "tags": []
   },
   "outputs": [
    {
     "name": "stderr",
     "output_type": "stream",
     "text": [
      "/home/jaskaran/.conda/envs/training/lib/python3.6/site-packages/tqdm/auto.py:22: TqdmWarning: IProgress not found. Please update jupyter and ipywidgets. See https://ipywidgets.readthedocs.io/en/stable/user_install.html\n",
      "  from .autonotebook import tqdm as notebook_tqdm\n"
     ]
    }
   ],
   "source": [
    "import torch\n",
    "import torch.optim as optim\n",
    "import torch.nn as nn\n",
    "import os\n",
    "from torch.utils.data import Dataset, DataLoader , random_split\n",
    "from torchvision import transforms , datasets\n",
    "from PIL import Image\n",
    "import pandas as pd\n",
    "import re\n",
    "import numpy as np\n",
    "import random\n",
    "import shutil\n",
    "import matplotlib.pyplot as plt\n",
    "from sklearn.model_selection import KFold\n",
    "\n"
   ]
  },
  {
   "cell_type": "code",
   "execution_count": 2,
   "id": "c05b12c8",
   "metadata": {
    "execution": {
     "iopub.execute_input": "2024-04-12T23:25:24.040874Z",
     "iopub.status.busy": "2024-04-12T23:25:24.039986Z",
     "iopub.status.idle": "2024-04-12T23:25:24.043794Z",
     "shell.execute_reply": "2024-04-12T23:25:24.043068Z"
    },
    "papermill": {
     "duration": 0.133292,
     "end_time": "2024-04-12T23:25:24.043964",
     "exception": false,
     "start_time": "2024-04-12T23:25:23.910672",
     "status": "completed"
    },
    "tags": []
   },
   "outputs": [
    {
     "name": "stdout",
     "output_type": "stream",
     "text": [
      "CUDA is available!\n"
     ]
    }
   ],
   "source": [
    "if torch.cuda.is_available():\n",
    "    print(\"CUDA is available!\")\n",
    "else:\n",
    "    print(\"CUDA is not availabe\")\n"
   ]
  },
  {
   "cell_type": "code",
   "execution_count": 3,
   "id": "a3cc0c42",
   "metadata": {
    "execution": {
     "iopub.execute_input": "2024-04-12T23:25:24.076224Z",
     "iopub.status.busy": "2024-04-12T23:25:24.075418Z",
     "iopub.status.idle": "2024-04-12T23:25:24.078429Z",
     "shell.execute_reply": "2024-04-12T23:25:24.077653Z"
    },
    "papermill": {
     "duration": 0.022426,
     "end_time": "2024-04-12T23:25:24.078577",
     "exception": false,
     "start_time": "2024-04-12T23:25:24.056151",
     "status": "completed"
    },
    "tags": []
   },
   "outputs": [],
   "source": [
    "\n",
    "class GeneticDataset(Dataset):\n",
    "    def __init__(self,root_folder, transform =None):\n",
    "        self.root_folder = root_folder\n",
    "        self.transform = transform\n",
    "        self.class_labels = sorted(os.listdir(root_folder))\n",
    "        self.class_to_idx = {label: idx for idx ,label in enumerate(self.class_labels)}\n",
    "        self.file_list = self._build_file_list()\n",
    "    \n",
    "    def _build_file_list(self):\n",
    "        file_list = []\n",
    "        for class_label in self.class_labels:\n",
    "            class_path = os.path.join(self.root_folder,class_label)\n",
    "            class_image = [os.path.join(class_path,image_path) for image_path in os.listdir(class_path)]\n",
    "            file_list.extend(class_image)\n",
    "        return file_list\n",
    "    \n",
    "    def __len__(self):\n",
    "        return len(self.file_list)\n",
    "    \n",
    "    def __getitem__(self,index):\n",
    "        file_path = self.file_list[index]\n",
    "        image = Image.open(file_path)\n",
    "        image = image.convert(\"RGB\")\n",
    "        resized_image = image.resize((200,200))\n",
    "        class_label = os.path.basename(os.path.dirname(file_path))\n",
    "        label = self.class_to_idx[class_label]\n",
    "        if self.root_folder.find(\"training\") != -1:\n",
    "            find = re.match(r\".+?[_].+?[_].+?[_](.+?)[.][p][n][g]\",file_path)\n",
    "        else:\n",
    "            find = re.match(r\".+?[_].+?[_](.+?)[.][p][n][g]\",file_path)\n",
    "        if (self.transform) :\n",
    "            resized_image = self.transform(resized_image)\n",
    "        return {'image': resized_image, 'label': label, \"coefficient\" : float(find[1]) }"
   ]
  },
  {
   "cell_type": "code",
   "execution_count": 4,
   "id": "5a6d1131",
   "metadata": {
    "execution": {
     "iopub.execute_input": "2024-04-12T23:25:24.111258Z",
     "iopub.status.busy": "2024-04-12T23:25:24.110362Z",
     "iopub.status.idle": "2024-04-12T23:25:24.148067Z",
     "shell.execute_reply": "2024-04-12T23:25:24.148675Z"
    },
    "papermill": {
     "duration": 0.059053,
     "end_time": "2024-04-12T23:25:24.148843",
     "exception": false,
     "start_time": "2024-04-12T23:25:24.089790",
     "status": "completed"
    },
    "tags": []
   },
   "outputs": [],
   "source": [
    "transform = transforms.Compose([\n",
    "    transforms.ToTensor(),\n",
    "    transforms.Normalize(mean=[0.5, 0.5, 0.5], std=[0.5, 0.5, 0.5])\n",
    "])\n",
    "\n",
    "\n",
    "data = GeneticDataset(\"/home/jaskaran/data_images\", transform= transform)\n",
    "generator = torch.Generator().manual_seed(46)\n",
    "length_data = len(data)\n",
    "training_size = int(0.8*length_data)\n",
    "testing_size = length_data - training_size\n",
    "\n",
    "total_samples = 8000\n",
    "\n",
    "\n",
    "\n",
    "indices = np.random.choice(len(data), total_samples, replace=False)\n",
    "\n",
    "# Create a subset of the dataset using the random indices\n",
    "subset_data = torch.utils.data.Subset(data, indices)\n",
    "\n",
    "\n",
    "\n",
    "\n",
    "train_data , test_data = random_split(data,[training_size, testing_size],generator=generator)\n",
    "\n",
    "training_dataloader= DataLoader(train_data,batch_size=64,shuffle=True, drop_last=True)\n",
    "testing_dataloader = DataLoader(test_data,batch_size=64,shuffle=True, drop_last=True)\n",
    "\n"
   ]
  },
  {
   "cell_type": "code",
   "execution_count": 5,
   "id": "ce3f7ee2",
   "metadata": {
    "execution": {
     "iopub.execute_input": "2024-04-12T23:25:24.175803Z",
     "iopub.status.busy": "2024-04-12T23:25:24.175029Z",
     "iopub.status.idle": "2024-04-12T23:25:24.349599Z",
     "shell.execute_reply": "2024-04-12T23:25:24.350338Z"
    },
    "papermill": {
     "duration": 0.19006,
     "end_time": "2024-04-12T23:25:24.350521",
     "exception": false,
     "start_time": "2024-04-12T23:25:24.160461",
     "status": "completed"
    },
    "tags": []
   },
   "outputs": [
    {
     "data": {
      "text/plain": [
       "7976"
      ]
     },
     "execution_count": 5,
     "metadata": {},
     "output_type": "execute_result"
    }
   ],
   "source": [
    "train_data[1599][\"image\"].shape\n",
    "len(train_data)"
   ]
  },
  {
   "cell_type": "code",
   "execution_count": 6,
   "id": "1db78d57",
   "metadata": {
    "execution": {
     "iopub.execute_input": "2024-04-12T23:25:24.384345Z",
     "iopub.status.busy": "2024-04-12T23:25:24.383547Z",
     "iopub.status.idle": "2024-04-12T23:25:24.385167Z",
     "shell.execute_reply": "2024-04-12T23:25:24.385804Z"
    },
    "papermill": {
     "duration": 0.021955,
     "end_time": "2024-04-12T23:25:24.385966",
     "exception": false,
     "start_time": "2024-04-12T23:25:24.364011",
     "status": "completed"
    },
    "tags": []
   },
   "outputs": [],
   "source": [
    "class CNN(nn.Module):\n",
    "    \n",
    "    def __init__(self):\n",
    "        super(CNN, self).__init__()\n",
    "        self.conv1 = nn.Conv2d(in_channels=3, \n",
    "                               out_channels=8,\n",
    "                               kernel_size=7, \n",
    "                               stride= 1,\n",
    "                               padding = 7)\n",
    "        self.relu = nn.ReLU(inplace=True)\n",
    "        self.softmax = nn.Softmax()\n",
    "        self.maxpool = nn.MaxPool2d(kernel_size =2,\n",
    "                                    stride=2)\n",
    "        #self.conv2 = nn.Conv2d(in_channels = 8,\n",
    "                               #out_channels = 32,\n",
    "                               #kernel_size = 2,\n",
    "                               #stride = 1,\n",
    "                               #padding = 2)\n",
    "        self.fc1 = nn.Linear(86528,256)\n",
    "        self.fc2 = nn.Linear(256,128)\n",
    "        self.fc3 = nn.Linear(128,2)\n",
    "        self.flatten = nn.Flatten(start_dim=1)\n",
    "        self.softmax = nn.Softmax(dim=1)\n",
    "        self.dropout = nn.Dropout(p=0.2)\n",
    "    \n",
    "    def forward(self, x):\n",
    "       x = self.conv1(x)\n",
    "       x = self.relu(x)\n",
    "       x = self.maxpool(x)\n",
    "    \n",
    "       #x = self.conv2(x)\n",
    "       #x = self.relu(x)\n",
    "       #x = self.maxpool(x)\n",
    "    \n",
    "       x = self.flatten(x)\n",
    "    \n",
    "       x = self.fc1(x)\n",
    "       x = self.relu(x)\n",
    "       x = self.dropout(x)\n",
    "    \n",
    "       x = self.fc2(x)\n",
    "       x = self.relu(x)\n",
    "       x = self.dropout(x)\n",
    "    \n",
    "       x = self.fc3(x)\n",
    "    \n",
    "       return x\n"
   ]
  },
  {
   "cell_type": "code",
   "execution_count": 7,
   "id": "6e01c165",
   "metadata": {
    "execution": {
     "iopub.execute_input": "2024-04-12T23:25:24.419234Z",
     "iopub.status.busy": "2024-04-12T23:25:24.418428Z",
     "iopub.status.idle": "2024-04-13T03:21:41.706626Z",
     "shell.execute_reply": "2024-04-13T03:21:41.707341Z"
    },
    "papermill": {
     "duration": 14177.309035,
     "end_time": "2024-04-13T03:21:41.707616",
     "exception": false,
     "start_time": "2024-04-12T23:25:24.398581",
     "status": "completed"
    },
    "tags": []
   },
   "outputs": [
    {
     "name": "stdout",
     "output_type": "stream",
     "text": [
      "Epoch 1/20,loss : 0.69 Accuracy: 51.81%\n"
     ]
    },
    {
     "name": "stdout",
     "output_type": "stream",
     "text": [
      "Epoch 2/20,loss : 0.68 Accuracy: 56.70%\n"
     ]
    },
    {
     "name": "stdout",
     "output_type": "stream",
     "text": [
      "Epoch 3/20,loss : 0.53 Accuracy: 71.67%\n"
     ]
    },
    {
     "name": "stdout",
     "output_type": "stream",
     "text": [
      "Epoch 4/20,loss : 0.28 Accuracy: 85.03%\n"
     ]
    },
    {
     "name": "stdout",
     "output_type": "stream",
     "text": [
      "Epoch 5/20,loss : 0.32 Accuracy: 85.53%\n"
     ]
    },
    {
     "name": "stdout",
     "output_type": "stream",
     "text": [
      "Epoch 6/20,loss : 0.09 Accuracy: 93.70%\n"
     ]
    },
    {
     "name": "stdout",
     "output_type": "stream",
     "text": [
      "Epoch 7/20,loss : 0.13 Accuracy: 90.32%\n"
     ]
    },
    {
     "name": "stdout",
     "output_type": "stream",
     "text": [
      "Epoch 8/20,loss : 0.12 Accuracy: 93.35%\n"
     ]
    },
    {
     "name": "stdout",
     "output_type": "stream",
     "text": [
      "Epoch 9/20,loss : 0.05 Accuracy: 93.85%\n"
     ]
    },
    {
     "name": "stdout",
     "output_type": "stream",
     "text": [
      "Epoch 10/20,loss : 0.25 Accuracy: 94.66%\n"
     ]
    },
    {
     "name": "stdout",
     "output_type": "stream",
     "text": [
      "Epoch 11/20,loss : 0.07 Accuracy: 94.46%\n"
     ]
    },
    {
     "name": "stdout",
     "output_type": "stream",
     "text": [
      "Epoch 12/20,loss : 0.21 Accuracy: 94.71%\n"
     ]
    },
    {
     "name": "stdout",
     "output_type": "stream",
     "text": [
      "Epoch 13/20,loss : 0.11 Accuracy: 94.10%\n"
     ]
    },
    {
     "name": "stdout",
     "output_type": "stream",
     "text": [
      "Epoch 14/20,loss : 0.06 Accuracy: 92.54%\n"
     ]
    },
    {
     "name": "stdout",
     "output_type": "stream",
     "text": [
      "Epoch 15/20,loss : 0.05 Accuracy: 93.90%\n"
     ]
    },
    {
     "name": "stdout",
     "output_type": "stream",
     "text": [
      "Epoch 16/20,loss : 0.11 Accuracy: 94.10%\n"
     ]
    },
    {
     "name": "stdout",
     "output_type": "stream",
     "text": [
      "Epoch 17/20,loss : 0.03 Accuracy: 93.60%\n"
     ]
    },
    {
     "name": "stdout",
     "output_type": "stream",
     "text": [
      "Epoch 18/20,loss : 0.02 Accuracy: 94.41%\n"
     ]
    },
    {
     "name": "stdout",
     "output_type": "stream",
     "text": [
      "Epoch 19/20,loss : 0.02 Accuracy: 92.79%\n"
     ]
    },
    {
     "name": "stdout",
     "output_type": "stream",
     "text": [
      "Epoch 20/20,loss : 0.02 Accuracy: 94.10%\n",
      "Model is trained\n"
     ]
    }
   ],
   "source": [
    "# Set seed for CPU operations\n",
    "torch.manual_seed(45)\n",
    "\n",
    "# Check if CUDA is available\n",
    "if torch.cuda.is_available():\n",
    "    # Set seed for CUDA operations\n",
    "    torch.cuda.manual_seed(45)\n",
    "    torch.cuda.manual_seed_all(45)  \n",
    "    torch.backends.cudnn.deterministic = True\n",
    "    torch.backends.cudnn.benchmark = False\n",
    "model = CNN()\n",
    "criterion = nn.CrossEntropyLoss()\n",
    "optimizer = optim.Adam(model.parameters(), lr=0.001)\n",
    "model.to(\"cuda:3\")\n",
    "num_epochs = 20\n",
    "\n",
    "for epoch in range(num_epochs):\n",
    "    model.train()\n",
    "    \n",
    "    for batch in training_dataloader:\n",
    "        images = batch['image'].to(\"cuda:3\")\n",
    "        labels = batch['label'].to(\"cuda:3\")  # Ensure labels are also moved to GPU\n",
    "        optimizer.zero_grad()\n",
    "        outputs = model(images)\n",
    "        loss = criterion(outputs, labels)\n",
    "        loss.backward()\n",
    "        optimizer.step()\n",
    "    \n",
    "    model.eval()\n",
    "    correct = 0\n",
    "    total = 0\n",
    "    \n",
    "    with torch.no_grad():\n",
    "        for batch in testing_dataloader:\n",
    "            images = batch['image'].to(\"cuda:3\")\n",
    "            labels = batch['label'].to(\"cuda:3\")\n",
    "            output = model(images)\n",
    "            _, predicted = torch.max(output.data, 1)\n",
    "            total += labels.size(0)\n",
    "            correct += (predicted == labels).sum().item()\n",
    "            \n",
    "    accuracy = correct / total \n",
    "    print(f'Epoch {epoch + 1}/{num_epochs},loss : {loss:.2f} Accuracy: {accuracy:.2%}')\n",
    "\n",
    "print(\"Model is trained\")"
   ]
  },
  {
   "cell_type": "code",
   "execution_count": 8,
   "id": "e259ad54",
   "metadata": {
    "execution": {
     "iopub.execute_input": "2024-04-13T03:21:41.764913Z",
     "iopub.status.busy": "2024-04-13T03:21:41.764116Z",
     "iopub.status.idle": "2024-04-13T03:21:41.912372Z",
     "shell.execute_reply": "2024-04-13T03:21:41.911607Z"
    },
    "papermill": {
     "duration": 0.182567,
     "end_time": "2024-04-13T03:21:41.912521",
     "exception": false,
     "start_time": "2024-04-13T03:21:41.729954",
     "status": "completed"
    },
    "tags": []
   },
   "outputs": [],
   "source": [
    "#print(model.state_dict())\n",
    "torch.save(model.state_dict(), f'model_state_dict_full_1conv_0.001_7*7_8_filter_images.pth')"
   ]
  }
 ],
 "metadata": {
  "kernelspec": {
   "display_name": "Python 3",
   "language": "python",
   "name": "python3"
  },
  "language_info": {
   "codemirror_mode": {
    "name": "ipython",
    "version": 3
   },
   "file_extension": ".py",
   "mimetype": "text/x-python",
   "name": "python",
   "nbconvert_exporter": "python",
   "pygments_lexer": "ipython3",
   "version": "3.6.8"
  },
  "papermill": {
   "default_parameters": {},
   "duration": 14181.651627,
   "end_time": "2024-04-13T03:21:43.084798",
   "environment_variables": {},
   "exception": null,
   "input_path": "/home/jaskaran/training_notebooks/training.ipynb",
   "output_path": "/home/jaskaran/training_notebooks/training_completed_full.ipynb",
   "parameters": {},
   "start_time": "2024-04-12T23:25:21.433171",
   "version": "2.3.4"
  }
 },
 "nbformat": 4,
 "nbformat_minor": 5
}