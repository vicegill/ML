{
 "cells": [
  {
   "cell_type": "code",
   "execution_count": 1,
   "id": "6306fb6a",
   "metadata": {
    "execution": {
     "iopub.execute_input": "2024-04-13T12:11:36.537076Z",
     "iopub.status.busy": "2024-04-13T12:11:36.536185Z",
     "iopub.status.idle": "2024-04-13T12:11:38.243083Z",
     "shell.execute_reply": "2024-04-13T12:11:38.243650Z"
    },
    "papermill": {
     "duration": 1.741404,
     "end_time": "2024-04-13T12:11:38.243881",
     "exception": false,
     "start_time": "2024-04-13T12:11:36.502477",
     "status": "completed"
    },
    "tags": []
   },
   "outputs": [
    {
     "name": "stderr",
     "output_type": "stream",
     "text": [
      "/home/jaskaran/.conda/envs/training/lib/python3.6/site-packages/tqdm/auto.py:22: TqdmWarning: IProgress not found. Please update jupyter and ipywidgets. See https://ipywidgets.readthedocs.io/en/stable/user_install.html\n",
      "  from .autonotebook import tqdm as notebook_tqdm\n"
     ]
    }
   ],
   "source": [
    "## Importing libraries\n",
    "\n",
    "import torch\n",
    "import torch.optim as optim\n",
    "import torch.nn as nn\n",
    "import os\n",
    "from torch.utils.data import Dataset, DataLoader , random_split\n",
    "from torchvision import transforms , datasets\n",
    "from PIL import Image\n",
    "import pandas as pd\n",
    "import re\n",
    "import random\n",
    "import shutil\n",
    "import matplotlib.pyplot as plt\n",
    "from sklearn.model_selection import KFold\n",
    "import numpy as np\n",
    "\n"
   ]
  },
  {
   "cell_type": "code",
   "execution_count": 2,
   "id": "0d482499",
   "metadata": {
    "execution": {
     "iopub.execute_input": "2024-04-13T12:11:38.370676Z",
     "iopub.status.busy": "2024-04-13T12:11:38.369817Z",
     "iopub.status.idle": "2024-04-13T12:11:38.372604Z",
     "shell.execute_reply": "2024-04-13T12:11:38.373249Z"
    },
    "papermill": {
     "duration": 0.116878,
     "end_time": "2024-04-13T12:11:38.373449",
     "exception": false,
     "start_time": "2024-04-13T12:11:38.256571",
     "status": "completed"
    },
    "tags": []
   },
   "outputs": [
    {
     "name": "stdout",
     "output_type": "stream",
     "text": [
      "CUDA is available!\n"
     ]
    }
   ],
   "source": [
    "## checking if cuda is available\n",
    "if torch.cuda.is_available():\n",
    "    print(\"CUDA is available!\")\n",
    "else:\n",
    "    print(\"CUDA is not availabe\")\n"
   ]
  },
  {
   "cell_type": "code",
   "execution_count": 3,
   "id": "b8c33591",
   "metadata": {
    "execution": {
     "iopub.execute_input": "2024-04-13T12:11:38.407178Z",
     "iopub.status.busy": "2024-04-13T12:11:38.406330Z",
     "iopub.status.idle": "2024-04-13T12:11:38.409097Z",
     "shell.execute_reply": "2024-04-13T12:11:38.408435Z"
    },
    "papermill": {
     "duration": 0.023985,
     "end_time": "2024-04-13T12:11:38.409268",
     "exception": false,
     "start_time": "2024-04-13T12:11:38.385283",
     "status": "completed"
    },
    "tags": []
   },
   "outputs": [],
   "source": [
    "## Custom class made for dataset training\n",
    "class GeneticMatrixDataset(Dataset):\n",
    "    def __init__(self,root_folder, transform =None):\n",
    "        self.root_folder = root_folder\n",
    "        self.transform = transform\n",
    "        self.class_labels = sorted(os.listdir(root_folder))\n",
    "        self.class_to_idx = {label: idx for idx ,label in enumerate(self.class_labels)}\n",
    "        self.file_list = self._build_file_list()\n",
    "    \n",
    "    def _build_file_list(self):\n",
    "        file_list = []\n",
    "        for class_label in self.class_labels:\n",
    "            class_path = os.path.join(self.root_folder,class_label)\n",
    "            class_image = [os.path.join(class_path,image_path) for image_path in os.listdir(class_path)]\n",
    "            file_list.extend(class_image)\n",
    "        return file_list\n",
    "    \n",
    "    def __len__(self):\n",
    "        return len(self.file_list)\n",
    "    \n",
    "    def __getitem__(self,index):\n",
    "        file_path = self.file_list[index]\n",
    "        array = np.loadtxt(file_path)\n",
    "        mean = np.mean(array)\n",
    "        std = np.std(array)\n",
    "        array = (array - mean) / std ##normalized array\n",
    "        class_label = os.path.basename(os.path.dirname(file_path))\n",
    "        label = self.class_to_idx[class_label]\n",
    "        find = re.match(r\".+?[_].+?[_](.+?)[.][t][x][t]\",file_path)\n",
    "        array = torch.from_numpy(array)\n",
    "        return {'array': array, 'label': label, \"coefficient \":find[1]}"
   ]
  },
  {
   "cell_type": "code",
   "execution_count": 4,
   "id": "343092e3",
   "metadata": {
    "execution": {
     "iopub.execute_input": "2024-04-13T12:11:38.440397Z",
     "iopub.status.busy": "2024-04-13T12:11:38.439585Z",
     "iopub.status.idle": "2024-04-13T12:11:38.480287Z",
     "shell.execute_reply": "2024-04-13T12:11:38.479590Z"
    },
    "papermill": {
     "duration": 0.059398,
     "end_time": "2024-04-13T12:11:38.480460",
     "exception": false,
     "start_time": "2024-04-13T12:11:38.421062",
     "status": "completed"
    },
    "tags": []
   },
   "outputs": [],
   "source": [
    "\n",
    "\n",
    "data = GeneticMatrixDataset(\"/home/jaskaran/data_matrix\") ## loading the data\n",
    "generator = torch.Generator().manual_seed(46) ## seeding the process\n",
    "length_data = len(data)\n",
    "training_size = int(0.8*length_data) ## 80 percent as training size\n",
    "testing_size = length_data - training_size ## 20 oercent of data as testing size\n",
    "\n",
    "train_data , test_data = random_split(data,[training_size, testing_size],generator=generator)\n",
    "\n",
    "\n",
    "training_dataloader= DataLoader(train_data,batch_size=32,shuffle=True, drop_last=True) ## Intialising the dataloader\n",
    "testing_dataloader = DataLoader(test_data,batch_size=32,shuffle=True, drop_last=True)\n",
    "\n"
   ]
  },
  {
   "cell_type": "code",
   "execution_count": 6,
   "id": "02a1d48d",
   "metadata": {
    "execution": {
     "iopub.execute_input": "2024-04-13T12:11:38.626664Z",
     "iopub.status.busy": "2024-04-13T12:11:38.626133Z",
     "iopub.status.idle": "2024-04-13T12:11:38.628331Z",
     "shell.execute_reply": "2024-04-13T12:11:38.627986Z"
    },
    "papermill": {
     "duration": 0.017187,
     "end_time": "2024-04-13T12:11:38.628405",
     "exception": false,
     "start_time": "2024-04-13T12:11:38.611218",
     "status": "completed"
    },
    "tags": []
   },
   "outputs": [],
   "source": [
    "## CNN architecture used for the training\n",
    "class CNN(nn.Module):\n",
    "    \n",
    "    def __init__(self):\n",
    "        super(CNN, self).__init__()\n",
    "        self.conv1 = nn.Conv2d(in_channels=1, \n",
    "                               out_channels=32,\n",
    "                               kernel_size=(15,9), \n",
    "                               stride= 1,\n",
    "                               padding =15)\n",
    "        self.relu = nn.ReLU(inplace=True)\n",
    "        self.softmax = nn.Softmax()\n",
    "        self.maxpool = nn.MaxPool2d(kernel_size =3)\n",
    "        self.fc1 = nn.Linear(424320,256)\n",
    "        self.fc2 = nn.Linear(256,128)\n",
    "        self.fc3 = nn.Linear(128,2)\n",
    "        self.flatten = nn.Flatten(start_dim=1)\n",
    "\n",
    "        self.dropout = nn.Dropout(p=0.2)\n",
    "    \n",
    "    def forward(self,x):\n",
    "        x = x.float()\n",
    "\n",
    "        x = self.conv1(x)\n",
    "        x = self.relu(x)\n",
    "        x = self.maxpool(x)\n",
    "        \n",
    "        x = self.flatten(x)\n",
    "\n",
    "        x = self.fc1(x)\n",
    "        x = self.relu(x)\n",
    "        x = self.dropout(x)\n",
    "\n",
    "        x = self.fc2(x)\n",
    "        x = self.relu(x)\n",
    "        x = self.dropout(x)\n",
    "        \n",
    "        x = self.fc3(x) \n",
    "        return x"
   ]
  },
  {
   "cell_type": "code",
   "execution_count": 7,
   "id": "b1591306",
   "metadata": {
    "execution": {
     "iopub.execute_input": "2024-04-13T12:11:38.650183Z",
     "iopub.status.busy": "2024-04-13T12:11:38.649760Z",
     "iopub.status.idle": "2024-04-13T15:10:15.584955Z",
     "shell.execute_reply": "2024-04-13T15:10:15.585727Z"
    },
    "papermill": {
     "duration": 10716.951222,
     "end_time": "2024-04-13T15:10:15.586077",
     "exception": false,
     "start_time": "2024-04-13T12:11:38.634855",
     "status": "completed"
    },
    "tags": []
   },
   "outputs": [
    {
     "name": "stdout",
     "output_type": "stream",
     "text": [
      "Epoch 1/20,loss : 0.38 Accuracy: 97.33%\n"
     ]
    },
    {
     "name": "stdout",
     "output_type": "stream",
     "text": [
      "Epoch 2/20,loss : 0.10 Accuracy: 97.73%\n"
     ]
    },
    {
     "name": "stdout",
     "output_type": "stream",
     "text": [
      "Epoch 3/20,loss : 0.24 Accuracy: 97.68%\n"
     ]
    },
    {
     "name": "stdout",
     "output_type": "stream",
     "text": [
      "Epoch 4/20,loss : 0.07 Accuracy: 96.67%\n"
     ]
    },
    {
     "name": "stdout",
     "output_type": "stream",
     "text": [
      "Epoch 5/20,loss : 0.27 Accuracy: 97.08%\n"
     ]
    },
    {
     "name": "stdout",
     "output_type": "stream",
     "text": [
      "Epoch 6/20,loss : 0.05 Accuracy: 90.68%\n"
     ]
    },
    {
     "name": "stdout",
     "output_type": "stream",
     "text": [
      "Epoch 7/20,loss : 0.04 Accuracy: 97.83%\n"
     ]
    },
    {
     "name": "stdout",
     "output_type": "stream",
     "text": [
      "Epoch 8/20,loss : 0.03 Accuracy: 96.77%\n"
     ]
    },
    {
     "name": "stdout",
     "output_type": "stream",
     "text": [
      "Epoch 9/20,loss : 0.04 Accuracy: 97.73%\n"
     ]
    },
    {
     "name": "stdout",
     "output_type": "stream",
     "text": [
      "Epoch 10/20,loss : 0.03 Accuracy: 97.88%\n"
     ]
    },
    {
     "name": "stdout",
     "output_type": "stream",
     "text": [
      "Epoch 11/20,loss : 0.03 Accuracy: 97.63%\n"
     ]
    },
    {
     "name": "stdout",
     "output_type": "stream",
     "text": [
      "Epoch 12/20,loss : 0.04 Accuracy: 97.38%\n"
     ]
    },
    {
     "name": "stdout",
     "output_type": "stream",
     "text": [
      "Epoch 13/20,loss : 0.21 Accuracy: 97.88%\n"
     ]
    },
    {
     "name": "stdout",
     "output_type": "stream",
     "text": [
      "Epoch 14/20,loss : 0.06 Accuracy: 97.88%\n"
     ]
    },
    {
     "name": "stdout",
     "output_type": "stream",
     "text": [
      "Epoch 15/20,loss : 0.14 Accuracy: 97.78%\n"
     ]
    },
    {
     "name": "stdout",
     "output_type": "stream",
     "text": [
      "Epoch 16/20,loss : 0.02 Accuracy: 97.88%\n"
     ]
    },
    {
     "name": "stdout",
     "output_type": "stream",
     "text": [
      "Epoch 17/20,loss : 0.39 Accuracy: 97.98%\n"
     ]
    },
    {
     "name": "stdout",
     "output_type": "stream",
     "text": [
      "Epoch 18/20,loss : 0.28 Accuracy: 97.18%\n"
     ]
    },
    {
     "name": "stdout",
     "output_type": "stream",
     "text": [
      "Epoch 19/20,loss : 0.03 Accuracy: 97.93%\n"
     ]
    },
    {
     "name": "stdout",
     "output_type": "stream",
     "text": [
      "Epoch 20/20,loss : 0.10 Accuracy: 97.88%\n",
      "Model is trained\n"
     ]
    }
   ],
   "source": [
    "# Set seed for CPU operations\n",
    "torch.manual_seed(45)\n",
    "\n",
    "# Check if CUDA is available\n",
    "if torch.cuda.is_available():\n",
    "    # Set seed for CUDA operations\n",
    "    torch.cuda.manual_seed(45)\n",
    "    torch.cuda.manual_seed_all(45)  \n",
    "    torch.backends.cudnn.deterministic = True\n",
    "    torch.backends.cudnn.benchmark = False\n",
    "model = CNN()\n",
    "criterion = nn.CrossEntropyLoss()\n",
    "optimizer = optim.Adam(model.parameters(), lr=0.0001)\n",
    "model.to(\"cuda:0\")\n",
    "num_epochs = 20\n",
    "\n",
    "for epoch in range(num_epochs):\n",
    "    model.train()\n",
    "    \n",
    "    for batch in training_dataloader:\n",
    "        matrix = batch['array']\n",
    "        matrix = matrix.unsqueeze(1)\n",
    "        matrix = matrix.to(\"cuda:0\")\n",
    "        labels = batch['label'].to(\"cuda:0\")  # Ensure labels are also moved to GPU\n",
    "        optimizer.zero_grad()\n",
    "        outputs = model(matrix)\n",
    "        loss = criterion(outputs, labels)\n",
    "        loss.backward()\n",
    "        optimizer.step()\n",
    "    \n",
    "    model.eval()\n",
    "    correct = 0\n",
    "    total = 0\n",
    "    \n",
    "    with torch.no_grad():\n",
    "        for batch in testing_dataloader:\n",
    "            matrix = batch['array']\n",
    "            matrix = matrix.unsqueeze(1)\n",
    "            matrix = matrix.to(\"cuda:0\")\n",
    "            labels = batch['label'].to(\"cuda:0\")\n",
    "            output = model(matrix)\n",
    "            _, predicted = torch.max(output.data, 1)\n",
    "            total += labels.size(0)\n",
    "            correct += (predicted == labels).sum().item()\n",
    "            \n",
    "    accuracy = correct / total \n",
    "    print(f'Epoch {epoch + 1}/{num_epochs},loss : {loss:.2f} Accuracy: {accuracy:.2%}')\n",
    "\n",
    "print(\"Model is trained\")"
   ]
  },
  {
   "cell_type": "code",
   "execution_count": 8,
   "id": "c3ede7a1",
   "metadata": {
    "execution": {
     "iopub.execute_input": "2024-04-13T15:10:15.636501Z",
     "iopub.status.busy": "2024-04-13T15:10:15.635669Z",
     "iopub.status.idle": "2024-04-13T15:10:16.168631Z",
     "shell.execute_reply": "2024-04-13T15:10:16.167877Z"
    },
    "papermill": {
     "duration": 0.559444,
     "end_time": "2024-04-13T15:10:16.168784",
     "exception": false,
     "start_time": "2024-04-13T15:10:15.609340",
     "status": "completed"
    },
    "tags": []
   },
   "outputs": [],
   "source": [
    "## Save the model dict\n",
    "torch.save(model.state_dict(), f'model_state_dict_matrix_lr_0.0001_15*9_dropout_0.2.pth')"
   ]
  }
 ],
 "metadata": {
  "kernelspec": {
   "display_name": "training",
   "language": "python",
   "name": "python3"
  },
  "language_info": {
   "codemirror_mode": {
    "name": "ipython",
    "version": 3
   },
   "file_extension": ".py",
   "mimetype": "text/x-python",
   "name": "python",
   "nbconvert_exporter": "python",
   "pygments_lexer": "ipython3",
   "version": "3.6.8"
  },
  "papermill": {
   "default_parameters": {},
   "duration": 10721.633347,
   "end_time": "2024-04-13T15:10:17.236147",
   "environment_variables": {},
   "exception": null,
   "input_path": "/home/jaskaran/training_notebooks/training_matrix.ipynb",
   "output_path": "/home/jaskaran/training_notebooks/training_matrix_15*9.ipynb",
   "parameters": {},
   "start_time": "2024-04-13T12:11:35.602800",
   "version": "2.3.4"
  }
 },
 "nbformat": 4,
 "nbformat_minor": 5
}
