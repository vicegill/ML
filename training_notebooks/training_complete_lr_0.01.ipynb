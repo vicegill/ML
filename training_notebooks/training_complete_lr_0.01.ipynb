{
 "cells": [
  {
   "cell_type": "code",
   "execution_count": 1,
   "id": "9e0130ef",
   "metadata": {
    "execution": {
     "iopub.execute_input": "2024-04-14T07:41:18.448177Z",
     "iopub.status.busy": "2024-04-14T07:41:18.447347Z",
     "iopub.status.idle": "2024-04-14T07:41:19.908809Z",
     "shell.execute_reply": "2024-04-14T07:41:19.908429Z"
    },
    "papermill": {
     "duration": 1.485566,
     "end_time": "2024-04-14T07:41:19.908914",
     "exception": false,
     "start_time": "2024-04-14T07:41:18.423348",
     "status": "completed"
    },
    "tags": []
   },
   "outputs": [
    {
     "name": "stderr",
     "output_type": "stream",
     "text": [
      "/home/jaskaran/.conda/envs/training/lib/python3.6/site-packages/tqdm/auto.py:22: TqdmWarning: IProgress not found. Please update jupyter and ipywidgets. See https://ipywidgets.readthedocs.io/en/stable/user_install.html\n",
      "  from .autonotebook import tqdm as notebook_tqdm\n"
     ]
    }
   ],
   "source": [
    "import torch\n",
    "import torch.optim as optim\n",
    "import torch.nn as nn\n",
    "import os\n",
    "from torch.utils.data import Dataset, DataLoader , random_split\n",
    "from torchvision import transforms , datasets\n",
    "from PIL import Image\n",
    "import pandas as pd\n",
    "import re\n",
    "import numpy as np\n",
    "import random\n",
    "import shutil\n",
    "import matplotlib.pyplot as plt\n",
    "from sklearn.model_selection import KFold\n",
    "\n"
   ]
  },
  {
   "cell_type": "code",
   "execution_count": 2,
   "id": "e3838d6c",
   "metadata": {
    "execution": {
     "iopub.execute_input": "2024-04-14T07:41:20.019722Z",
     "iopub.status.busy": "2024-04-14T07:41:20.018927Z",
     "iopub.status.idle": "2024-04-14T07:41:20.021566Z",
     "shell.execute_reply": "2024-04-14T07:41:20.022236Z"
    },
    "papermill": {
     "duration": 0.107033,
     "end_time": "2024-04-14T07:41:20.022400",
     "exception": false,
     "start_time": "2024-04-14T07:41:19.915367",
     "status": "completed"
    },
    "tags": []
   },
   "outputs": [
    {
     "name": "stdout",
     "output_type": "stream",
     "text": [
      "CUDA is available!\n"
     ]
    }
   ],
   "source": [
    "if torch.cuda.is_available():\n",
    "    print(\"CUDA is available!\")\n",
    "else:\n",
    "    print(\"CUDA is not availabe\")\n"
   ]
  },
  {
   "cell_type": "code",
   "execution_count": 3,
   "id": "03194ac7",
   "metadata": {
    "execution": {
     "iopub.execute_input": "2024-04-14T07:41:20.054029Z",
     "iopub.status.busy": "2024-04-14T07:41:20.053223Z",
     "iopub.status.idle": "2024-04-14T07:41:20.055669Z",
     "shell.execute_reply": "2024-04-14T07:41:20.054919Z"
    },
    "papermill": {
     "duration": 0.021945,
     "end_time": "2024-04-14T07:41:20.055815",
     "exception": false,
     "start_time": "2024-04-14T07:41:20.033870",
     "status": "completed"
    },
    "tags": []
   },
   "outputs": [],
   "source": [
    "\n",
    "class GeneticDataset(Dataset):\n",
    "    def __init__(self,root_folder, transform =None):\n",
    "        self.root_folder = root_folder\n",
    "        self.transform = transform\n",
    "        self.class_labels = sorted(os.listdir(root_folder))\n",
    "        self.class_to_idx = {label: idx for idx ,label in enumerate(self.class_labels)}\n",
    "        self.file_list = self._build_file_list()\n",
    "    \n",
    "    def _build_file_list(self):\n",
    "        file_list = []\n",
    "        for class_label in self.class_labels:\n",
    "            class_path = os.path.join(self.root_folder,class_label)\n",
    "            class_image = [os.path.join(class_path,image_path) for image_path in os.listdir(class_path)]\n",
    "            file_list.extend(class_image)\n",
    "        return file_list\n",
    "    \n",
    "    def __len__(self):\n",
    "        return len(self.file_list)\n",
    "    \n",
    "    def __getitem__(self,index):\n",
    "        file_path = self.file_list[index]\n",
    "        image = Image.open(file_path)\n",
    "        image = image.convert(\"RGB\")\n",
    "        resized_image = image.resize((200,200))\n",
    "        class_label = os.path.basename(os.path.dirname(file_path))\n",
    "        label = self.class_to_idx[class_label]\n",
    "        if self.root_folder.find(\"training\") != -1:\n",
    "            find = re.match(r\".+?[_].+?[_].+?[_](.+?)[.][p][n][g]\",file_path)\n",
    "        else:\n",
    "            find = re.match(r\".+?[_].+?[_](.+?)[.][p][n][g]\",file_path)\n",
    "        if (self.transform) :\n",
    "            resized_image = self.transform(resized_image)\n",
    "        return {'image': resized_image, 'label': label, \"coefficient\" : float(find[1]) }"
   ]
  },
  {
   "cell_type": "code",
   "execution_count": 4,
   "id": "f5262b17",
   "metadata": {
    "execution": {
     "iopub.execute_input": "2024-04-14T07:41:20.084934Z",
     "iopub.status.busy": "2024-04-14T07:41:20.084150Z",
     "iopub.status.idle": "2024-04-14T07:41:20.105365Z",
     "shell.execute_reply": "2024-04-14T07:41:20.104610Z"
    },
    "papermill": {
     "duration": 0.038136,
     "end_time": "2024-04-14T07:41:20.105509",
     "exception": false,
     "start_time": "2024-04-14T07:41:20.067373",
     "status": "completed"
    },
    "tags": []
   },
   "outputs": [],
   "source": [
    "transform = transforms.Compose([\n",
    "    transforms.ToTensor(),\n",
    "    transforms.Normalize(mean=[0.5, 0.5, 0.5], std=[0.5, 0.5, 0.5])\n",
    "])\n",
    "\n",
    "\n",
    "data = GeneticDataset(\"/home/jaskaran/data_images\", transform= transform)\n",
    "generator = torch.Generator().manual_seed(46)\n",
    "length_data = len(data)\n",
    "training_size = int(0.8*length_data)\n",
    "testing_size = length_data - training_size\n",
    "\n",
    "total_samples = 8000\n",
    "\n",
    "\n",
    "\n",
    "indices = np.random.choice(len(data), total_samples, replace=False)\n",
    "\n",
    "# Create a subset of the dataset using the random indices\n",
    "subset_data = torch.utils.data.Subset(data, indices)\n",
    "\n",
    "\n",
    "\n",
    "\n",
    "train_data , test_data = random_split(data,[training_size, testing_size],generator=generator)\n",
    "\n",
    "training_dataloader= DataLoader(train_data,batch_size=64,shuffle=True, drop_last=True)\n",
    "testing_dataloader = DataLoader(test_data,batch_size=64,shuffle=True, drop_last=True)\n",
    "\n"
   ]
  },
  {
   "cell_type": "code",
   "execution_count": 5,
   "id": "802071fd",
   "metadata": {
    "execution": {
     "iopub.execute_input": "2024-04-14T07:41:20.131534Z",
     "iopub.status.busy": "2024-04-14T07:41:20.130768Z",
     "iopub.status.idle": "2024-04-14T07:41:20.249077Z",
     "shell.execute_reply": "2024-04-14T07:41:20.249664Z"
    },
    "papermill": {
     "duration": 0.132857,
     "end_time": "2024-04-14T07:41:20.249822",
     "exception": false,
     "start_time": "2024-04-14T07:41:20.116965",
     "status": "completed"
    },
    "tags": []
   },
   "outputs": [
    {
     "data": {
      "text/plain": [
       "9970"
      ]
     },
     "execution_count": 5,
     "metadata": {},
     "output_type": "execute_result"
    }
   ],
   "source": [
    "train_data[1599][\"image\"].shape\n",
    "len(data)"
   ]
  },
  {
   "cell_type": "code",
   "execution_count": 6,
   "id": "f2e04f72",
   "metadata": {
    "execution": {
     "iopub.execute_input": "2024-04-14T07:41:20.270723Z",
     "iopub.status.busy": "2024-04-14T07:41:20.269890Z",
     "iopub.status.idle": "2024-04-14T07:41:20.271455Z",
     "shell.execute_reply": "2024-04-14T07:41:20.272011Z"
    },
    "papermill": {
     "duration": 0.0157,
     "end_time": "2024-04-14T07:41:20.272156",
     "exception": false,
     "start_time": "2024-04-14T07:41:20.256456",
     "status": "completed"
    },
    "tags": []
   },
   "outputs": [],
   "source": [
    "class CNN(nn.Module):\n",
    "    \n",
    "    def __init__(self):\n",
    "        super(CNN, self).__init__()\n",
    "        self.conv1 = nn.Conv2d(in_channels=3, \n",
    "                               out_channels=8,\n",
    "                               kernel_size=7, \n",
    "                               stride= 1,\n",
    "                               padding = 7)\n",
    "        self.relu = nn.ReLU(inplace=True)\n",
    "        self.softmax = nn.Softmax()\n",
    "        self.maxpool = nn.MaxPool2d(kernel_size =2,\n",
    "                                    stride=2)\n",
    "        #self.conv2 = nn.Conv2d(in_channels = 8,\n",
    "                               #out_channels = 32,\n",
    "                               #kernel_size = 2,\n",
    "                               #stride = 1,\n",
    "                               #padding = 2)\n",
    "        self.fc1 = nn.Linear(86528,256)\n",
    "        self.fc2 = nn.Linear(256,128)\n",
    "        self.fc3 = nn.Linear(128,2)\n",
    "        self.flatten = nn.Flatten(start_dim=1)\n",
    "        self.softmax = nn.Softmax(dim=1)\n",
    "        self.dropout = nn.Dropout(p=0.2)\n",
    "    \n",
    "    def forward(self, x):\n",
    "       x = self.conv1(x)\n",
    "       x = self.relu(x)\n",
    "       x = self.maxpool(x)\n",
    "    \n",
    "       #x = self.conv2(x)\n",
    "       #x = self.relu(x)\n",
    "       #x = self.maxpool(x)\n",
    "    \n",
    "       x = self.flatten(x)\n",
    "    \n",
    "       x = self.fc1(x)\n",
    "       x = self.relu(x)\n",
    "       x = self.dropout(x)\n",
    "    \n",
    "       x = self.fc2(x)\n",
    "       x = self.relu(x)\n",
    "       x = self.dropout(x)\n",
    "    \n",
    "       x = self.fc3(x)\n",
    "    \n",
    "       return x\n"
   ]
  },
  {
   "cell_type": "code",
   "execution_count": 7,
   "id": "53e6b25f",
   "metadata": {
    "execution": {
     "iopub.execute_input": "2024-04-14T07:41:20.295640Z",
     "iopub.status.busy": "2024-04-14T07:41:20.295277Z",
     "iopub.status.idle": "2024-04-14T12:07:35.534217Z",
     "shell.execute_reply": "2024-04-14T12:07:35.534912Z"
    },
    "papermill": {
     "duration": 15975.255954,
     "end_time": "2024-04-14T12:07:35.535123",
     "exception": false,
     "start_time": "2024-04-14T07:41:20.279169",
     "status": "completed"
    },
    "tags": []
   },
   "outputs": [
    {
     "name": "stdout",
     "output_type": "stream",
     "text": [
      "Epoch 1/20,loss : 0.69 Accuracy: 50.86%\n"
     ]
    },
    {
     "name": "stdout",
     "output_type": "stream",
     "text": [
      "Epoch 2/20,loss : 0.69 Accuracy: 49.09%\n"
     ]
    },
    {
     "name": "stdout",
     "output_type": "stream",
     "text": [
      "Epoch 3/20,loss : 0.69 Accuracy: 49.04%\n"
     ]
    },
    {
     "name": "stdout",
     "output_type": "stream",
     "text": [
      "Epoch 4/20,loss : 0.69 Accuracy: 49.14%\n"
     ]
    },
    {
     "name": "stdout",
     "output_type": "stream",
     "text": [
      "Epoch 5/20,loss : 0.69 Accuracy: 50.86%\n"
     ]
    },
    {
     "name": "stdout",
     "output_type": "stream",
     "text": [
      "Epoch 6/20,loss : 0.68 Accuracy: 49.09%\n"
     ]
    },
    {
     "name": "stdout",
     "output_type": "stream",
     "text": [
      "Epoch 7/20,loss : 0.69 Accuracy: 49.09%\n"
     ]
    },
    {
     "name": "stdout",
     "output_type": "stream",
     "text": [
      "Epoch 8/20,loss : 0.69 Accuracy: 50.96%\n"
     ]
    },
    {
     "name": "stdout",
     "output_type": "stream",
     "text": [
      "Epoch 9/20,loss : 0.70 Accuracy: 50.81%\n"
     ]
    },
    {
     "name": "stdout",
     "output_type": "stream",
     "text": [
      "Epoch 10/20,loss : 0.69 Accuracy: 49.09%\n"
     ]
    },
    {
     "name": "stdout",
     "output_type": "stream",
     "text": [
      "Epoch 11/20,loss : 0.69 Accuracy: 50.86%\n"
     ]
    },
    {
     "name": "stdout",
     "output_type": "stream",
     "text": [
      "Epoch 12/20,loss : 0.69 Accuracy: 49.04%\n"
     ]
    },
    {
     "name": "stdout",
     "output_type": "stream",
     "text": [
      "Epoch 13/20,loss : 0.69 Accuracy: 49.04%\n"
     ]
    },
    {
     "name": "stdout",
     "output_type": "stream",
     "text": [
      "Epoch 14/20,loss : 0.69 Accuracy: 51.01%\n"
     ]
    },
    {
     "name": "stdout",
     "output_type": "stream",
     "text": [
      "Epoch 15/20,loss : 0.69 Accuracy: 49.19%\n"
     ]
    },
    {
     "name": "stdout",
     "output_type": "stream",
     "text": [
      "Epoch 16/20,loss : 1.10 Accuracy: 51.11%\n"
     ]
    },
    {
     "name": "stdout",
     "output_type": "stream",
     "text": [
      "Epoch 17/20,loss : 0.68 Accuracy: 49.14%\n"
     ]
    },
    {
     "name": "stdout",
     "output_type": "stream",
     "text": [
      "Epoch 18/20,loss : 0.69 Accuracy: 50.91%\n"
     ]
    },
    {
     "name": "stdout",
     "output_type": "stream",
     "text": [
      "Epoch 19/20,loss : 0.67 Accuracy: 49.19%\n"
     ]
    },
    {
     "name": "stdout",
     "output_type": "stream",
     "text": [
      "Epoch 20/20,loss : 0.69 Accuracy: 50.81%\n",
      "Model is trained\n"
     ]
    }
   ],
   "source": [
    "# Set seed for CPU operations\n",
    "torch.manual_seed(45)\n",
    "\n",
    "# Check if CUDA is available\n",
    "if torch.cuda.is_available():\n",
    "    # Set seed for CUDA operations\n",
    "    torch.cuda.manual_seed(45)\n",
    "    torch.cuda.manual_seed_all(45)  \n",
    "    torch.backends.cudnn.deterministic = True\n",
    "    torch.backends.cudnn.benchmark = False\n",
    "model = CNN()\n",
    "criterion = nn.CrossEntropyLoss()\n",
    "optimizer = optim.Adam(model.parameters(), lr=0.01)\n",
    "model.to(\"cuda:3\")\n",
    "num_epochs = 20\n",
    "\n",
    "for epoch in range(num_epochs):\n",
    "    model.train()\n",
    "    \n",
    "    for batch in training_dataloader:\n",
    "        images = batch['image'].to(\"cuda:3\")\n",
    "        labels = batch['label'].to(\"cuda:3\")  # Ensure labels are also moved to GPU\n",
    "        optimizer.zero_grad()\n",
    "        outputs = model(images)\n",
    "        loss = criterion(outputs, labels)\n",
    "        loss.backward()\n",
    "        optimizer.step()\n",
    "    \n",
    "    model.eval()\n",
    "    correct = 0\n",
    "    total = 0\n",
    "    \n",
    "    with torch.no_grad():\n",
    "        for batch in testing_dataloader:\n",
    "            images = batch['image'].to(\"cuda:3\")\n",
    "            labels = batch['label'].to(\"cuda:3\")\n",
    "            output = model(images)\n",
    "            _, predicted = torch.max(output.data, 1)\n",
    "            total += labels.size(0)\n",
    "            correct += (predicted == labels).sum().item()\n",
    "            \n",
    "    accuracy = correct / total \n",
    "    print(f'Epoch {epoch + 1}/{num_epochs},loss : {loss:.2f} Accuracy: {accuracy:.2%}')\n",
    "\n",
    "print(\"Model is trained\")"
   ]
  },
  {
   "cell_type": "code",
   "execution_count": 8,
   "id": "52945c68",
   "metadata": {
    "execution": {
     "iopub.execute_input": "2024-04-14T12:07:35.575565Z",
     "iopub.status.busy": "2024-04-14T12:07:35.575199Z",
     "iopub.status.idle": "2024-04-14T12:07:35.691922Z",
     "shell.execute_reply": "2024-04-14T12:07:35.691272Z"
    },
    "papermill": {
     "duration": 0.133974,
     "end_time": "2024-04-14T12:07:35.692095",
     "exception": false,
     "start_time": "2024-04-14T12:07:35.558121",
     "status": "completed"
    },
    "tags": []
   },
   "outputs": [],
   "source": [
    "#print(model.state_dict())\n",
    "torch.save(model.state_dict(), f'model_state_dict_full_1conv_0.001_7*7_8_filter_images_lr_0.01.pth')"
   ]
  }
 ],
 "metadata": {
  "kernelspec": {
   "display_name": "Python 3",
   "language": "python",
   "name": "python3"
  },
  "language_info": {
   "codemirror_mode": {
    "name": "ipython",
    "version": 3
   },
   "file_extension": ".py",
   "mimetype": "text/x-python",
   "name": "python",
   "nbconvert_exporter": "python",
   "pygments_lexer": "ipython3",
   "version": "3.6.8"
  },
  "papermill": {
   "default_parameters": {},
   "duration": 15979.163081,
   "end_time": "2024-04-14T12:07:36.771081",
   "environment_variables": {},
   "exception": null,
   "input_path": "/home/jaskaran/training_notebooks/training.ipynb",
   "output_path": "/home/jaskaran/training_notebooks/training_complete_lr_0.01.ipynb",
   "parameters": {},
   "start_time": "2024-04-14T07:41:17.608000",
   "version": "2.3.4"
  }
 },
 "nbformat": 4,
 "nbformat_minor": 5
}