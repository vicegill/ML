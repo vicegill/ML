{
 "cells": [
  {
   "cell_type": "code",
   "execution_count": 3,
   "metadata": {},
   "outputs": [
    {
     "name": "stdout",
     "output_type": "stream",
     "text": [
      "env: PYTHONX=-Xfrozen_modules=of\n",
      "Requirement already satisfied: numpy==1.24.3 in /dss/dsshome1/09/ra78pec/mambaforge/envs/snakemake/lib/python3.11/site-packages (from -r requirements.txt (line 2)) (1.24.3)\n",
      "Requirement already satisfied: msprime==1.2.0 in /dss/dsshome1/09/ra78pec/mambaforge/envs/snakemake/lib/python3.11/site-packages (from -r requirements.txt (line 3)) (1.2.0)\n",
      "Requirement already satisfied: tskit==0.5.6 in /dss/dsshome1/09/ra78pec/mambaforge/envs/snakemake/lib/python3.11/site-packages (from -r requirements.txt (line 4)) (0.5.6)\n",
      "Requirement already satisfied: pyslim==1.0.4 in /dss/dsshome1/09/ra78pec/mambaforge/envs/snakemake/lib/python3.11/site-packages (from -r requirements.txt (line 5)) (1.0.4)\n",
      "Requirement already satisfied: pandas==2.0.2 in /dss/dsshome1/09/ra78pec/mambaforge/envs/snakemake/lib/python3.11/site-packages (from -r requirements.txt (line 6)) (2.0.2)\n",
      "Requirement already satisfied: matplotlib==3.8.1 in /dss/dsshome1/09/ra78pec/mambaforge/envs/snakemake/lib/python3.11/site-packages (from -r requirements.txt (line 7)) (3.8.1)\n",
      "Requirement already satisfied: Ipython==8.14.0 in /dss/dsshome1/09/ra78pec/mambaforge/envs/snakemake/lib/python3.11/site-packages (from -r requirements.txt (line 8)) (8.14.0)\n",
      "Requirement already satisfied: ploomber-engine==0.0.31 in /dss/dsshome1/09/ra78pec/mambaforge/envs/snakemake/lib/python3.11/site-packages (from -r requirements.txt (line 9)) (0.0.31)\n",
      "Requirement already satisfied: Bio==1.6.2 in /dss/dsshome1/09/ra78pec/mambaforge/envs/snakemake/lib/python3.11/site-packages (from -r requirements.txt (line 10)) (1.6.2)\n",
      "Requirement already satisfied: newick>=1.3.0 in /dss/dsshome1/09/ra78pec/mambaforge/envs/snakemake/lib/python3.11/site-packages (from msprime==1.2.0->-r requirements.txt (line 3)) (1.9.0)\n",
      "Requirement already satisfied: demes>=0.2 in /dss/dsshome1/09/ra78pec/mambaforge/envs/snakemake/lib/python3.11/site-packages (from msprime==1.2.0->-r requirements.txt (line 3)) (0.2.3)\n",
      "Requirement already satisfied: jsonschema>=3.0.0 in /dss/dsshome1/09/ra78pec/mambaforge/envs/snakemake/lib/python3.11/site-packages (from tskit==0.5.6->-r requirements.txt (line 4)) (4.21.1)\n",
      "Requirement already satisfied: svgwrite>=1.1.10 in /dss/dsshome1/09/ra78pec/mambaforge/envs/snakemake/lib/python3.11/site-packages (from tskit==0.5.6->-r requirements.txt (line 4)) (1.4.3)\n",
      "Requirement already satisfied: python-dateutil>=2.8.2 in /dss/dsshome1/09/ra78pec/mambaforge/envs/snakemake/lib/python3.11/site-packages (from pandas==2.0.2->-r requirements.txt (line 6)) (2.8.2)\n",
      "Requirement already satisfied: pytz>=2020.1 in /dss/dsshome1/09/ra78pec/mambaforge/envs/snakemake/lib/python3.11/site-packages (from pandas==2.0.2->-r requirements.txt (line 6)) (2023.3.post1)\n",
      "Requirement already satisfied: tzdata>=2022.1 in /dss/dsshome1/09/ra78pec/mambaforge/envs/snakemake/lib/python3.11/site-packages (from pandas==2.0.2->-r requirements.txt (line 6)) (2023.4)\n",
      "Requirement already satisfied: contourpy>=1.0.1 in /dss/dsshome1/09/ra78pec/mambaforge/envs/snakemake/lib/python3.11/site-packages (from matplotlib==3.8.1->-r requirements.txt (line 7)) (1.2.0)\n",
      "Requirement already satisfied: cycler>=0.10 in /dss/dsshome1/09/ra78pec/mambaforge/envs/snakemake/lib/python3.11/site-packages (from matplotlib==3.8.1->-r requirements.txt (line 7)) (0.12.1)\n",
      "Requirement already satisfied: fonttools>=4.22.0 in /dss/dsshome1/09/ra78pec/mambaforge/envs/snakemake/lib/python3.11/site-packages (from matplotlib==3.8.1->-r requirements.txt (line 7)) (4.47.2)\n",
      "Requirement already satisfied: kiwisolver>=1.3.1 in /dss/dsshome1/09/ra78pec/mambaforge/envs/snakemake/lib/python3.11/site-packages (from matplotlib==3.8.1->-r requirements.txt (line 7)) (1.4.5)\n",
      "Requirement already satisfied: packaging>=20.0 in /dss/dsshome1/09/ra78pec/mambaforge/envs/snakemake/lib/python3.11/site-packages (from matplotlib==3.8.1->-r requirements.txt (line 7)) (23.2)\n",
      "Requirement already satisfied: pillow>=8 in /dss/dsshome1/09/ra78pec/mambaforge/envs/snakemake/lib/python3.11/site-packages (from matplotlib==3.8.1->-r requirements.txt (line 7)) (10.2.0)\n",
      "Requirement already satisfied: pyparsing>=2.3.1 in /dss/dsshome1/09/ra78pec/mambaforge/envs/snakemake/lib/python3.11/site-packages (from matplotlib==3.8.1->-r requirements.txt (line 7)) (3.1.1)\n",
      "Requirement already satisfied: backcall in /dss/dsshome1/09/ra78pec/mambaforge/envs/snakemake/lib/python3.11/site-packages (from Ipython==8.14.0->-r requirements.txt (line 8)) (0.2.0)\n",
      "Requirement already satisfied: decorator in /dss/dsshome1/09/ra78pec/mambaforge/envs/snakemake/lib/python3.11/site-packages (from Ipython==8.14.0->-r requirements.txt (line 8)) (5.1.1)\n",
      "Requirement already satisfied: jedi>=0.16 in /dss/dsshome1/09/ra78pec/mambaforge/envs/snakemake/lib/python3.11/site-packages (from Ipython==8.14.0->-r requirements.txt (line 8)) (0.19.1)\n",
      "Requirement already satisfied: matplotlib-inline in /dss/dsshome1/09/ra78pec/mambaforge/envs/snakemake/lib/python3.11/site-packages (from Ipython==8.14.0->-r requirements.txt (line 8)) (0.1.6)\n",
      "Requirement already satisfied: pickleshare in /dss/dsshome1/09/ra78pec/mambaforge/envs/snakemake/lib/python3.11/site-packages (from Ipython==8.14.0->-r requirements.txt (line 8)) (0.7.5)\n",
      "Requirement already satisfied: prompt-toolkit!=3.0.37,<3.1.0,>=3.0.30 in /dss/dsshome1/09/ra78pec/mambaforge/envs/snakemake/lib/python3.11/site-packages (from Ipython==8.14.0->-r requirements.txt (line 8)) (3.0.42)\n",
      "Requirement already satisfied: pygments>=2.4.0 in /dss/dsshome1/09/ra78pec/mambaforge/envs/snakemake/lib/python3.11/site-packages (from Ipython==8.14.0->-r requirements.txt (line 8)) (2.17.2)\n",
      "Requirement already satisfied: stack-data in /dss/dsshome1/09/ra78pec/mambaforge/envs/snakemake/lib/python3.11/site-packages (from Ipython==8.14.0->-r requirements.txt (line 8)) (0.6.2)\n",
      "Requirement already satisfied: traitlets>=5 in /dss/dsshome1/09/ra78pec/mambaforge/envs/snakemake/lib/python3.11/site-packages (from Ipython==8.14.0->-r requirements.txt (line 8)) (5.14.1)\n",
      "Requirement already satisfied: pexpect>4.3 in /dss/dsshome1/09/ra78pec/mambaforge/envs/snakemake/lib/python3.11/site-packages (from Ipython==8.14.0->-r requirements.txt (line 8)) (4.8.0)\n",
      "Requirement already satisfied: ploomber-core>=0.2 in /dss/dsshome1/09/ra78pec/mambaforge/envs/snakemake/lib/python3.11/site-packages (from ploomber-engine==0.0.31->-r requirements.txt (line 9)) (0.2.22)\n",
      "Requirement already satisfied: debuglater>=1.4.4 in /dss/dsshome1/09/ra78pec/mambaforge/envs/snakemake/lib/python3.11/site-packages (from ploomber-engine==0.0.31->-r requirements.txt (line 9)) (1.4.4)\n",
      "Requirement already satisfied: nbclient in /dss/dsshome1/09/ra78pec/mambaforge/envs/snakemake/lib/python3.11/site-packages (from ploomber-engine==0.0.31->-r requirements.txt (line 9)) (0.8.0)\n",
      "Requirement already satisfied: parso in /dss/dsshome1/09/ra78pec/mambaforge/envs/snakemake/lib/python3.11/site-packages (from ploomber-engine==0.0.31->-r requirements.txt (line 9)) (0.8.3)\n",
      "Requirement already satisfied: nbformat in /dss/dsshome1/09/ra78pec/mambaforge/envs/snakemake/lib/python3.11/site-packages (from ploomber-engine==0.0.31->-r requirements.txt (line 9)) (5.9.2)\n",
      "Requirement already satisfied: click in /dss/dsshome1/09/ra78pec/mambaforge/envs/snakemake/lib/python3.11/site-packages (from ploomber-engine==0.0.31->-r requirements.txt (line 9)) (8.1.7)\n",
      "Requirement already satisfied: tqdm in /dss/dsshome1/09/ra78pec/mambaforge/envs/snakemake/lib/python3.11/site-packages (from ploomber-engine==0.0.31->-r requirements.txt (line 9)) (4.66.1)\n",
      "Requirement already satisfied: biopython>=1.80 in /dss/dsshome1/09/ra78pec/mambaforge/envs/snakemake/lib/python3.11/site-packages (from Bio==1.6.2->-r requirements.txt (line 10)) (1.83)\n",
      "Requirement already satisfied: requests in /dss/dsshome1/09/ra78pec/mambaforge/envs/snakemake/lib/python3.11/site-packages (from Bio==1.6.2->-r requirements.txt (line 10)) (2.31.0)\n",
      "Requirement already satisfied: mygene in /dss/dsshome1/09/ra78pec/mambaforge/envs/snakemake/lib/python3.11/site-packages (from Bio==1.6.2->-r requirements.txt (line 10)) (3.2.2)\n",
      "Requirement already satisfied: pooch in /dss/dsshome1/09/ra78pec/mambaforge/envs/snakemake/lib/python3.11/site-packages (from Bio==1.6.2->-r requirements.txt (line 10)) (1.8.0)\n",
      "Requirement already satisfied: gprofiler-official in /dss/dsshome1/09/ra78pec/mambaforge/envs/snakemake/lib/python3.11/site-packages (from Bio==1.6.2->-r requirements.txt (line 10)) (1.0.0)\n",
      "Requirement already satisfied: colorama in /dss/dsshome1/09/ra78pec/mambaforge/envs/snakemake/lib/python3.11/site-packages (from debuglater>=1.4.4->ploomber-engine==0.0.31->-r requirements.txt (line 9)) (0.4.6)\n",
      "Requirement already satisfied: attrs>=20.3.0 in /dss/dsshome1/09/ra78pec/mambaforge/envs/snakemake/lib/python3.11/site-packages (from demes>=0.2->msprime==1.2.0->-r requirements.txt (line 3)) (23.2.0)\n",
      "Requirement already satisfied: ruamel.yaml>=0.15.78 in /dss/dsshome1/09/ra78pec/mambaforge/envs/snakemake/lib/python3.11/site-packages (from demes>=0.2->msprime==1.2.0->-r requirements.txt (line 3)) (0.18.5)\n",
      "Requirement already satisfied: jsonschema-specifications>=2023.03.6 in /dss/dsshome1/09/ra78pec/mambaforge/envs/snakemake/lib/python3.11/site-packages (from jsonschema>=3.0.0->tskit==0.5.6->-r requirements.txt (line 4)) (2023.12.1)\n",
      "Requirement already satisfied: referencing>=0.28.4 in /dss/dsshome1/09/ra78pec/mambaforge/envs/snakemake/lib/python3.11/site-packages (from jsonschema>=3.0.0->tskit==0.5.6->-r requirements.txt (line 4)) (0.32.1)\n",
      "Requirement already satisfied: rpds-py>=0.7.1 in /dss/dsshome1/09/ra78pec/mambaforge/envs/snakemake/lib/python3.11/site-packages (from jsonschema>=3.0.0->tskit==0.5.6->-r requirements.txt (line 4)) (0.17.1)\n",
      "Requirement already satisfied: ptyprocess>=0.5 in /dss/dsshome1/09/ra78pec/mambaforge/envs/snakemake/lib/python3.11/site-packages (from pexpect>4.3->Ipython==8.14.0->-r requirements.txt (line 8)) (0.7.0)\n",
      "Requirement already satisfied: pyyaml in /dss/dsshome1/09/ra78pec/mambaforge/envs/snakemake/lib/python3.11/site-packages (from ploomber-core>=0.2->ploomber-engine==0.0.31->-r requirements.txt (line 9)) (6.0.1)\n",
      "Requirement already satisfied: posthog in /dss/dsshome1/09/ra78pec/mambaforge/envs/snakemake/lib/python3.11/site-packages (from ploomber-core>=0.2->ploomber-engine==0.0.31->-r requirements.txt (line 9)) (3.3.2)\n",
      "Requirement already satisfied: wcwidth in /dss/dsshome1/09/ra78pec/mambaforge/envs/snakemake/lib/python3.11/site-packages (from prompt-toolkit!=3.0.37,<3.1.0,>=3.0.30->Ipython==8.14.0->-r requirements.txt (line 8)) (0.2.13)\n",
      "Requirement already satisfied: six>=1.5 in /dss/dsshome1/09/ra78pec/mambaforge/envs/snakemake/lib/python3.11/site-packages (from python-dateutil>=2.8.2->pandas==2.0.2->-r requirements.txt (line 6)) (1.16.0)\n",
      "Requirement already satisfied: biothings-client>=0.2.6 in /dss/dsshome1/09/ra78pec/mambaforge/envs/snakemake/lib/python3.11/site-packages (from mygene->Bio==1.6.2->-r requirements.txt (line 10)) (0.3.1)\n",
      "Requirement already satisfied: jupyter-client>=6.1.12 in /dss/dsshome1/09/ra78pec/mambaforge/envs/snakemake/lib/python3.11/site-packages (from nbclient->ploomber-engine==0.0.31->-r requirements.txt (line 9)) (7.4.9)\n",
      "Requirement already satisfied: jupyter-core!=5.0.*,>=4.12 in /dss/dsshome1/09/ra78pec/mambaforge/envs/snakemake/lib/python3.11/site-packages (from nbclient->ploomber-engine==0.0.31->-r requirements.txt (line 9)) (5.7.1)\n",
      "Requirement already satisfied: fastjsonschema in /dss/dsshome1/09/ra78pec/mambaforge/envs/snakemake/lib/python3.11/site-packages (from nbformat->ploomber-engine==0.0.31->-r requirements.txt (line 9)) (2.19.1)\n",
      "Requirement already satisfied: platformdirs>=2.5.0 in /dss/dsshome1/09/ra78pec/mambaforge/envs/snakemake/lib/python3.11/site-packages (from pooch->Bio==1.6.2->-r requirements.txt (line 10)) (4.1.0)\n",
      "Requirement already satisfied: charset-normalizer<4,>=2 in /dss/dsshome1/09/ra78pec/mambaforge/envs/snakemake/lib/python3.11/site-packages (from requests->Bio==1.6.2->-r requirements.txt (line 10)) (3.3.2)\n",
      "Requirement already satisfied: idna<4,>=2.5 in /dss/dsshome1/09/ra78pec/mambaforge/envs/snakemake/lib/python3.11/site-packages (from requests->Bio==1.6.2->-r requirements.txt (line 10)) (3.6)\n",
      "Requirement already satisfied: urllib3<3,>=1.21.1 in /dss/dsshome1/09/ra78pec/mambaforge/envs/snakemake/lib/python3.11/site-packages (from requests->Bio==1.6.2->-r requirements.txt (line 10)) (1.26.18)\n",
      "Requirement already satisfied: certifi>=2017.4.17 in /dss/dsshome1/09/ra78pec/mambaforge/envs/snakemake/lib/python3.11/site-packages (from requests->Bio==1.6.2->-r requirements.txt (line 10)) (2023.11.17)\n",
      "Requirement already satisfied: executing>=1.2.0 in /dss/dsshome1/09/ra78pec/mambaforge/envs/snakemake/lib/python3.11/site-packages (from stack-data->Ipython==8.14.0->-r requirements.txt (line 8)) (2.0.1)\n",
      "Requirement already satisfied: asttokens>=2.1.0 in /dss/dsshome1/09/ra78pec/mambaforge/envs/snakemake/lib/python3.11/site-packages (from stack-data->Ipython==8.14.0->-r requirements.txt (line 8)) (2.4.1)\n",
      "Requirement already satisfied: pure-eval in /dss/dsshome1/09/ra78pec/mambaforge/envs/snakemake/lib/python3.11/site-packages (from stack-data->Ipython==8.14.0->-r requirements.txt (line 8)) (0.2.2)\n",
      "Requirement already satisfied: entrypoints in /dss/dsshome1/09/ra78pec/mambaforge/envs/snakemake/lib/python3.11/site-packages (from jupyter-client>=6.1.12->nbclient->ploomber-engine==0.0.31->-r requirements.txt (line 9)) (0.4)\n",
      "Requirement already satisfied: nest-asyncio>=1.5.4 in /dss/dsshome1/09/ra78pec/mambaforge/envs/snakemake/lib/python3.11/site-packages (from jupyter-client>=6.1.12->nbclient->ploomber-engine==0.0.31->-r requirements.txt (line 9)) (1.6.0)\n",
      "Requirement already satisfied: pyzmq>=23.0 in /dss/dsshome1/09/ra78pec/mambaforge/envs/snakemake/lib/python3.11/site-packages (from jupyter-client>=6.1.12->nbclient->ploomber-engine==0.0.31->-r requirements.txt (line 9)) (25.1.2)\n",
      "Requirement already satisfied: tornado>=6.2 in /dss/dsshome1/09/ra78pec/mambaforge/envs/snakemake/lib/python3.11/site-packages (from jupyter-client>=6.1.12->nbclient->ploomber-engine==0.0.31->-r requirements.txt (line 9)) (6.3.3)\n",
      "Requirement already satisfied: ruamel.yaml.clib>=0.2.7 in /dss/dsshome1/09/ra78pec/mambaforge/envs/snakemake/lib/python3.11/site-packages (from ruamel.yaml>=0.15.78->demes>=0.2->msprime==1.2.0->-r requirements.txt (line 3)) (0.2.8)\n",
      "Requirement already satisfied: monotonic>=1.5 in /dss/dsshome1/09/ra78pec/mambaforge/envs/snakemake/lib/python3.11/site-packages (from posthog->ploomber-core>=0.2->ploomber-engine==0.0.31->-r requirements.txt (line 9)) (1.6)\n",
      "Requirement already satisfied: backoff>=1.10.0 in /dss/dsshome1/09/ra78pec/mambaforge/envs/snakemake/lib/python3.11/site-packages (from posthog->ploomber-core>=0.2->ploomber-engine==0.0.31->-r requirements.txt (line 9)) (2.2.1)\n"
     ]
    }
   ],
   "source": [
    "%env PYTHONX=-Xfrozen_modules=of\n",
    "! pip install -r requirements.txt"
   ]
  },
  {
   "cell_type": "code",
   "execution_count": 4,
   "metadata": {},
   "outputs": [],
   "source": [
    "import pyslim\n",
    "import tskit\n",
    "import msprime\n",
    "import pandas as pd\n",
    "import numpy as np\n",
    "import io\n",
    "import random\n",
    "import matplotlib.pyplot as plt\n",
    "from IPython.display import display,SVG"
   ]
  },
  {
   "cell_type": "markdown",
   "metadata": {
    "tags": [
     "parameters"
    ]
   },
   "source": [
    "<!-- parameters -->\n",
    "- sample_size: 50\n",
    "- sequence_length: 100000\n",
    "- mutation_rate: 3e-08\n",
    "- recombination_rate: 3e-09\n",
    "- N: 50000\n",
    "- bottleneck_intensity : 1"
   ]
  },
  {
   "cell_type": "code",
   "execution_count": null,
   "metadata": {},
   "outputs": [],
   "source": [
    "random_seed = random.randint(1, 1000000)\n",
    "output_pdf_path = f\"output/output_bottleneck/bottleneck_txt/bottleneck_{bottleneck_intensity}.txt\"\n",
    "with open(output_pdf_path,\"a\") as file:\n",
    "    file.write(f\" the random seed used for this simulation is {random_seed} \\n\")"
   ]
  },
  {
   "cell_type": "code",
   "execution_count": null,
   "metadata": {},
   "outputs": [],
   "source": [
    "# Loading the sequence in the ts format\n",
    "ts_load = tskit.load(f\"output/output_bottleneck/bottleneck_trees/bottleneck_{bottleneck_intensity}.trees\")"
   ]
  },
  {
   "cell_type": "code",
   "execution_count": null,
   "metadata": {},
   "outputs": [],
   "source": [
    "# Recapitating the data\n",
    "\n",
    "rts = pyslim.recapitate(ts_load,\n",
    "                        recombination_rate = recombination_rate,\n",
    "                        ancestral_Ne = N,\n",
    "                        random_seed =random_seed)\n",
    "orig_max_roots = max(t.num_roots for t in ts_load.trees()) \n",
    "recap_max_roots = max(t.num_roots for t in rts.trees())\n",
    "print(f\"Maximum number of roots before recapitation: {orig_max_roots}\\n\"\n",
    "      f\"After recapitation: {recap_max_roots}\")\n",
    "with open(output_pdf_path,\"a\") as txt_file:\n",
    "    txt_file.write(f\"Maximum number of roots before recapitation: {orig_max_roots}\\n\"\n",
    "                   f\"After recapitation: {recap_max_roots} \\n\")\n",
    "\n"
   ]
  },
  {
   "cell_type": "code",
   "execution_count": null,
   "metadata": {},
   "outputs": [],
   "source": [
    "# Simplification of the data\n",
    "\n",
    "rng = np.random.default_rng(seed=random_seed)\n",
    "alive_inds = pyslim.individuals_alive_at(rts, 0)\n",
    "keep_indivs = rng.choice(alive_inds, sample_size, replace=False)\n",
    "keep_nodes = []\n",
    "for i in keep_indivs:\n",
    "  keep_nodes.extend(rts.individual(i).nodes)\n",
    "\n",
    "sts = rts.simplify(keep_nodes, keep_input_roots=True)\n",
    "\n",
    "with open(output_pdf_path,\"a\") as txt_file:\n",
    "  txt_file.write((f\"Before, there were {rts.num_samples} sample nodes (and {rts.num_individuals} individuals)\\n\"\n",
    "                  f\"in the tree sequence, and now there are {sts.num_samples} sample nodes\\n\"\n",
    "                  f\"(and {sts.num_individuals} individuals).\\n\"))"
   ]
  },
  {
   "cell_type": "code",
   "execution_count": null,
   "metadata": {},
   "outputs": [],
   "source": [
    "next_id = pyslim.next_slim_mutation_id(sts)\n",
    "ts = msprime.sim_mutations(sts,\n",
    "                           rate=mutation_rate,\n",
    "                           model=msprime.SLiMMutationModel(type=0, next_id=next_id),\n",
    "                           keep=True)"
   ]
  },
  {
   "cell_type": "code",
   "execution_count": null,
   "metadata": {},
   "outputs": [],
   "source": [
    "# Turning the tree sequences into the vcf file\n",
    "nts = pyslim.generate_nucleotides(ts)\n",
    "nts = pyslim.convert_alleles(nts)\n",
    "\n",
    "vcf_file_path = f\"output/output_bottleneck/vcf/bottleneck_{bottleneck_intensity}.vcf\"\n",
    "with open(vcf_file_path, \"w\") as vcf_file:\n",
    "    nts.write_vcf(vcf_file)\n",
    "fasta_file_path= f\"output/output_bottleneck/fasta/bottleneck_{bottleneck_intensity}.fasta\"\n",
    "with open(fasta_file_path,\"w\") as fasta_file:\n",
    "    nts.write_fasta(fasta_file)\n"
   ]
  },
  {
   "cell_type": "code",
   "execution_count": null,
   "metadata": {},
   "outputs": [],
   "source": [
    "# Computing the different statistics\n",
    "ns = nts.segregating_sites(span_normalise = False)\n",
    "k = nts.allele_frequency_spectrum(polarised = True,span_normalise=False,mode=\"site\")/ns\n",
    "k = k[2:]\n",
    "plt.ioff()\n",
    "plt.subplot(2,2,1)\n",
    "plt.stairs(k)\n",
    "plt.xlabel(\"The categories from 1 to 100\")\n",
    "plt.ylabel(\"Count\")\n",
    "plt.title(f\"Allele frequency spectrum \")\n",
    "with open(output_pdf_path,\"a\") as txt_file:\n",
    "  txt_file.write((f\" These are the population statistics related to this data : - \\n\"\n",
    "                  f\" The allele frequency numbers are :-  \\n{k}\\n\"\n",
    "                  f\"1. The Tajima'D for the given sequence is {nts.Tajimas_D()}\\n \"))\n",
    "plt.savefig(f\"output/output_bottleneck/plots/allele_frequency_spectrum_{bottleneck_intensity}.jpg\")\n"
   ]
  },
  {
   "cell_type": "code",
   "execution_count": null,
   "metadata": {},
   "outputs": [],
   "source": [
    "meta_file_statistics = \"output/output_bottleneck/meta_data/meta_Stats.tab\"\n",
    "\n",
    "with open(meta_file_statistics, \"a\") as file:\n",
    "    file.write(f\"{fasta_file_path}\\t{bottleneck_intensity}\\t{nts.Tajimas_D()}\\t{nts.diversity()}\\t{ns}\\n\")\n"
   ]
  },
  {
   "cell_type": "code",
   "execution_count": null,
   "metadata": {},
   "outputs": [],
   "source": [
    "num_windows = 100\n",
    "k = nts.allele_frequency_spectrum(polarised = True,\n",
    "                                  windows=np.linspace(0, ts.sequence_length, num_windows + 1),\n",
    "                                  span_normalise=True,\n",
    "                                  mode=\"site\") \n",
    "\n",
    "file_path = f\"output/output_bottleneck/arrays/array_data_{bottleneck_intensity}.txt\"\n",
    "\n",
    "np.savetxt(file_path, k)"
   ]
  }
 ],
 "metadata": {
  "kernelspec": {
   "display_name": "Python 3 (ipykernel)",
   "language": "python",
   "name": "python3"
  },
  "language_info": {
   "codemirror_mode": {
    "name": "ipython",
    "version": 3
   },
   "file_extension": ".py",
   "mimetype": "text/x-python",
   "name": "python",
   "nbconvert_exporter": "python",
   "pygments_lexer": "ipython3",
   "version": "3.11.6"
  }
 },
 "nbformat": 4,
 "nbformat_minor": 4
}
