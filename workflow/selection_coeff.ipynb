{
 "cells": [
  {
   "cell_type": "code",
   "execution_count": null,
   "metadata": {},
   "outputs": [],
   "source": [
    "\n",
    "! pip install -r requirement.txt"
   ]
  },
  {
   "cell_type": "code",
   "execution_count": 8,
   "metadata": {},
   "outputs": [],
   "source": [
    "import random\n",
    "import numpy as np\n",
    "import os"
   ]
  },
  {
   "cell_type": "markdown",
   "metadata": {
    "tags": [
     "parameters"
    ]
   },
   "source": [
    "<!-- parameters -->\n",
    "- lowest_s: 0.001\n",
    "- highest_s: 1\n",
    "- num_of_data: 5000"
   ]
  },
  {
   "cell_type": "code",
   "execution_count": 7,
   "metadata": {},
   "outputs": [],
   "source": [
    "\n",
    "def generate_unique_coefficients(lowest_s, highest_s, num_of_data):\n",
    "    coefficients = set()\n",
    "    while len(coefficients) < num_of_data:\n",
    "        random_seed = random.randint(1, 10000000)\n",
    "        np.random.seed(random_seed)\n",
    "        new_coefficients = np.random.uniform(lowest_s, highest_s, num_of_data - len(coefficients))\n",
    "        coefficients.update(np.round(new_coefficients, 4))\n",
    "    return list(coefficients)\n",
    "\n",
    "selection_coefficients = generate_unique_coefficients(lowest_s, highest_s, num_of_data)\n",
    "\n",
    "while len(set(selection_coefficients)) != len(selection_coefficients):\n",
    "    print(\"Duplicates found. Regenerating coefficients.\")\n",
    "    selection_coefficients = generate_unique_coefficients(lowest_s, highest_s, num_of_data)\n",
    "\n",
    "# Write coefficients to file\n",
    "file = \"output/output_selection/selection_coeffecient_meta.txt\"\n",
    "with open(file, \"w\") as file_txt:\n",
    "    for i in selection_coefficients:\n",
    "        file_txt.write(f\"{i}\\n\")\n",
    "\n",
    "print(\"All selection coefficients are unique.\")"
   ]
  }
 ],
 "metadata": {
  "kernelspec": {
   "display_name": "Python 3 (ipykernel)",
   "language": "python",
   "name": "python3"
  },
  "orig_nbformat": 4
 },
 "nbformat": 4,
 "nbformat_minor": 2
}
