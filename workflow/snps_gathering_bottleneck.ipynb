{
 "cells": [
  {
   "cell_type": "code",
   "execution_count": null,
   "metadata": {},
   "outputs": [],
   "source": [
    "%env PYTHONX=-Xfrozen_modules=off"
   ]
  },
  {
   "cell_type": "markdown",
   "metadata": {
    "tags": [
     "parameters"
    ]
   },
   "source": [
    "<!--parameters-->\n",
    "- intenstity: 1.0"
   ]
  },
  {
   "cell_type": "code",
   "execution_count": null,
   "metadata": {},
   "outputs": [
    {
     "ename": "",
     "evalue": "",
     "output_type": "error",
     "traceback": [
      "\u001b[1;31mCannot execute code, session has been disposed. Please try restarting the Kernel."
     ]
    }
   ],
   "source": [
    "from Bio import AlignIO\n",
    "from Bio.Align import MultipleSeqAlignment\n",
    "from Bio.Seq import Seq\n",
    "from Bio.SeqRecord import SeqRecord\n",
    "from Bio import SeqIO\n",
    "import numpy as np\n",
    "import pandas as pd\n",
    "from collections import Counter\n",
    "import os\n",
    "import time\n",
    "import matplotlib.pyplot as plt\n",
    "import re\n",
    "from matplotlib.colors import ListedColormap\n",
    "from matplotlib.colors import LinearSegmentedColormap"
   ]
  },
  {
   "cell_type": "code",
   "execution_count": null,
   "metadata": {},
   "outputs": [],
   "source": []
  },
  {
   "cell_type": "code",
   "execution_count": null,
   "metadata": {},
   "outputs": [],
   "source": [
    "def filter_snps(input_file, output_file):\n",
    "    # Loading the Alignment\n",
    "    alignment = AlignIO.read(input_file, \"fasta\")\n",
    "\n",
    "    # Converting SeqRecord objects to strings\n",
    "    sequences = [str(record.seq) for record in alignment]\n",
    "\n",
    "    # Filtering the snps\n",
    "    variable_sites = [i for i in range(alignment.get_alignment_length()) if len(set(sequences[j][i] for j in range(len(sequences)))) > 1]\n",
    "\n",
    "    # Positions of variable sites in the original sequence\n",
    "    positions = [position + 1 for position in variable_sites]\n",
    "\n",
    "    # Create new SeqRecord objects with only variable sites\n",
    "    variable_records = [\n",
    "        SeqRecord(Seq(''.join(sequences[j][i] for i in variable_sites)), id=record.id)\n",
    "        for j, record in enumerate(alignment)\n",
    "    ]\n",
    "\n",
    "    # Create a new alignment with the SeqRecord objects\n",
    "    variable_alignment = MultipleSeqAlignment(variable_records)\n",
    "\n",
    "    # Saving the new alignment to the output file\n",
    "    AlignIO.write(variable_alignment, output_file, 'fasta')\n",
    "    return positions\n",
    "\n",
    "input_file_path = f\"output/output_bottleneck/fasta/bottleneck_{intensity}.fasta\"\n",
    "output_file_path = f\"output/output_bottleneck/snps/bottleneck_{intensity}.fasta\"\n",
    "\n",
    "# Calling the function to filter variable sites\n",
    "positions_of_snps = filter_snps(input_file_path, output_file_path)\n",
    "\n"
   ]
  },
  {
   "cell_type": "code",
   "execution_count": null,
   "metadata": {},
   "outputs": [],
   "source": [
    "sequences = list(SeqIO.parse(input_file_path, 'fasta'))\n",
    "i=1\n",
    "df = pd.DataFrame(columns = range(1,len(sequences[1].seq)+1),index=range(1,len(sequences)+1))\n",
    "for i ,sequence in enumerate(sequences):\n",
    "    for l, base in enumerate(sequence.seq):  \n",
    "        df.at[i + 1, l + 1] = base\n",
    "\n",
    "def most_common_base(column):\n",
    "    counter = Counter(column)\n",
    "    return counter.most_common(1)[0][0]\n",
    "\n",
    "most_frequent_bases = df.apply(most_common_base)\n",
    "most_frequent_sequence = Seq(''.join(most_frequent_bases))\n",
    "record = SeqRecord(most_frequent_sequence, id=\"most_frequent_sequence\", description=\"Most frequent base at each position\")\n",
    "output_file_anc = f\"output/output_bottleneck/ancestral_sequence/ancestral_{intensity}.fasta\"\n",
    "SeqIO.write(record,output_file_anc,'fasta')"
   ]
  },
  {
   "cell_type": "code",
   "execution_count": null,
   "metadata": {},
   "outputs": [],
   "source": [
    "def encode_base(base, ancestral_base):\n",
    "    if base==ancestral_base:\n",
    "        return 0\n",
    "    else:\n",
    "        base_encoding = {'A': 1, 'T': 2, 'C': 3, 'G': 4 , 'N':5}\n",
    "        return base_encoding.get(base)\n",
    "\n",
    "def compare_sequences(ancestral_file, aligned_file, output_file,window_size = 200, step_size=100):\n",
    "    ancestral_seq = str(SeqIO.read(ancestral_file, 'fasta').seq)\n",
    "    aligned_seqs = list(SeqIO.parse(aligned_file, 'fasta'))\n",
    "\n",
    "    \n",
    "    matrix = np.zeros((len(aligned_seqs),( int((len(ancestral_seq) - window_size) / step_size) + 1)))\n",
    "    counter = 0\n",
    "    for i, aligned_seq_record in enumerate(aligned_seqs):\n",
    "        pos=0\n",
    "        for j in range(0, len(ancestral_seq) - window_size + 1, step_size):\n",
    "            ancestral_window = ancestral_seq[j:(j + window_size)]\n",
    "            aligned_window = str(aligned_seq_record.seq[j:(j + window_size)])\n",
    "            # Compare each position in the window\n",
    "            for k, ancestral_pos in enumerate(ancestral_window):\n",
    "                if ancestral_pos != aligned_window[k]:\n",
    "                    counter += 1\n",
    "            matrix[i,pos]=counter\n",
    "            counter=0\n",
    "            pos=pos+1\n",
    "            #0 if aligned_seq_record.seq[j] != ancestral_pos else 1\n",
    "    \n",
    "    \n",
    "\n",
    "    similarity_scores = [sum(row) for row in matrix]\n",
    "\n",
    "    # Sort sequences based on similarity scores\n",
    "    sorted_indices = np.argsort(similarity_scores)\n",
    "    matrix = matrix[sorted_indices, :]\n",
    "\n",
    "    print(\"Length of aligned_seqs:\", len(aligned_seqs))\n",
    "    print(\"Sorted indices:\", sorted_indices)\n",
    "    print(matrix.shape)\n",
    "\n",
    "    aligned_seqs = [aligned_seqs[idx] for idx in sorted_indices]\n",
    "\n",
    "    # Save the matrix and reordered seq_ids to the output file\n",
    "    np.savetxt(output_file, matrix, fmt='%d', delimiter='\\t', header='\\t'.join(map(str, range(( int((len(ancestral_seq) - window_size) / step_size) + 1)))), comments='')\n",
    "    return matrix\n",
    "\n",
    "# Example usage\n",
    "output_file_matrix = f\"output/output_bottleneck/matrix/matrix_{intensity}.txt\"\n",
    "\n",
    "matrix = compare_sequences(ancestral_file=output_file_anc,aligned_file=input_file_path, output_file=output_file_matrix)\n",
    "\n",
    "\n",
    "output_image = f\"output/output_bottleneck/images/image_{intensity}.png\"\n",
    "square_size = 1.0\n",
    "\n",
    "\n",
    "plt.imshow(matrix, cmap=\"Greys\", aspect='equal', extent=[0, matrix.shape[1], 0, matrix.shape[0]])\n",
    "plt.axis('off')\n",
    "\n",
    "\n",
    "# Save the image\n",
    "plt.savefig(output_image, bbox_inches='tight',dpi=1200,pad_inches=0)\n",
    "plt.close()\n",
    "\n",
    "\n",
    "meta_file = \"output/output_bottleneck/meta_data/meta_images.tab\"\n",
    "with open(meta_file, \"a\") as file:\n",
    "    file.write(f\"{intensity}\\t{output_file_path}\\t{output_file_matrix}\\t{output_file_anc}\\t{output_image}\\n\")"
   ]
  },
  {
   "cell_type": "code",
   "execution_count": null,
   "metadata": {},
   "outputs": [],
   "source": [
    "output_file_h1_format=f\"output/output_bottleneck/h_format/h_{intensity}.csv\"\n",
    "\n",
    "records = list(SeqIO.parse(output_file_path, 'fasta'))\n",
    "with open(output_file_h1_format, 'w') as outfile:\n",
    "    i=0\n",
    "    \n",
    "    for k in range(len(records[0].seq)):\n",
    "        # Extract genotypes from all samples at the current position\n",
    "        genotypes = ','.join(record.seq[k] for record in records)\n",
    "\n",
    "        # Write the converted line to the output file\n",
    "        outfile.write(f\"{positions_of_snps[i]},{genotypes}\\n\")\n",
    "        i=i+1"
   ]
  }
 ],
 "metadata": {
  "kernelspec": {
   "display_name": "Python 3 (ipykernel)",
   "language": "python",
   "name": "python3"
  }
 },
 "nbformat": 4,
 "nbformat_minor": 2
}
