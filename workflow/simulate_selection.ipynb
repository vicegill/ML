{
 "cells": [
  {
   "cell_type": "code",
   "execution_count": 10,
   "metadata": {},
   "outputs": [
    {
     "name": "stdout",
     "output_type": "stream",
     "text": [
      "Requirement already satisfied: numpy==1.24.3 in /Users/vicegill/miniconda3/lib/python3.11/site-packages (from -r workflow/requirements.txt (line 2)) (1.24.3)\n",
      "Requirement already satisfied: msprime==1.2.0 in /Users/vicegill/miniconda3/lib/python3.11/site-packages (from -r workflow/requirements.txt (line 3)) (1.2.0)\n",
      "Requirement already satisfied: tskit==0.5.6 in /Users/vicegill/miniconda3/lib/python3.11/site-packages (from -r workflow/requirements.txt (line 4)) (0.5.6)\n",
      "Collecting pyslim==1.0.4 (from -r workflow/requirements.txt (line 5))\n",
      "  Using cached pyslim-1.0.4-py3-none-any.whl.metadata (1.3 kB)\n",
      "Requirement already satisfied: pandas==2.0.2 in /Users/vicegill/miniconda3/lib/python3.11/site-packages (from -r workflow/requirements.txt (line 6)) (2.0.2)\n",
      "Collecting matplotlib==3.8.1 (from -r workflow/requirements.txt (line 7))\n",
      "  Using cached matplotlib-3.8.1-cp311-cp311-macosx_11_0_arm64.whl.metadata (5.8 kB)\n",
      "Collecting Ipython==8.14.0 (from -r workflow/requirements.txt (line 8))\n",
      "  Using cached ipython-8.14.0-py3-none-any.whl.metadata (5.8 kB)\n",
      "Requirement already satisfied: newick>=1.3.0 in /Users/vicegill/miniconda3/lib/python3.11/site-packages (from msprime==1.2.0->-r workflow/requirements.txt (line 3)) (1.9.0)\n",
      "Requirement already satisfied: demes>=0.2 in /Users/vicegill/miniconda3/lib/python3.11/site-packages (from msprime==1.2.0->-r workflow/requirements.txt (line 3)) (0.2.3)\n",
      "Requirement already satisfied: jsonschema>=3.0.0 in /Users/vicegill/miniconda3/lib/python3.11/site-packages (from tskit==0.5.6->-r workflow/requirements.txt (line 4)) (4.20.0)\n",
      "Requirement already satisfied: svgwrite>=1.1.10 in /Users/vicegill/miniconda3/lib/python3.11/site-packages (from tskit==0.5.6->-r workflow/requirements.txt (line 4)) (1.4.3)\n",
      "Requirement already satisfied: python-dateutil>=2.8.2 in /Users/vicegill/miniconda3/lib/python3.11/site-packages (from pandas==2.0.2->-r workflow/requirements.txt (line 6)) (2.8.2)\n",
      "Requirement already satisfied: pytz>=2020.1 in /Users/vicegill/miniconda3/lib/python3.11/site-packages (from pandas==2.0.2->-r workflow/requirements.txt (line 6)) (2023.3.post1)\n",
      "Requirement already satisfied: tzdata>=2022.1 in /Users/vicegill/miniconda3/lib/python3.11/site-packages (from pandas==2.0.2->-r workflow/requirements.txt (line 6)) (2023.3)\n",
      "Requirement already satisfied: contourpy>=1.0.1 in /Users/vicegill/miniconda3/lib/python3.11/site-packages (from matplotlib==3.8.1->-r workflow/requirements.txt (line 7)) (1.2.0)\n",
      "Requirement already satisfied: cycler>=0.10 in /Users/vicegill/miniconda3/lib/python3.11/site-packages (from matplotlib==3.8.1->-r workflow/requirements.txt (line 7)) (0.12.1)\n",
      "Requirement already satisfied: fonttools>=4.22.0 in /Users/vicegill/miniconda3/lib/python3.11/site-packages (from matplotlib==3.8.1->-r workflow/requirements.txt (line 7)) (4.46.0)\n",
      "Requirement already satisfied: kiwisolver>=1.3.1 in /Users/vicegill/miniconda3/lib/python3.11/site-packages (from matplotlib==3.8.1->-r workflow/requirements.txt (line 7)) (1.4.5)\n",
      "Requirement already satisfied: packaging>=20.0 in /Users/vicegill/miniconda3/lib/python3.11/site-packages (from matplotlib==3.8.1->-r workflow/requirements.txt (line 7)) (23.1)\n",
      "Requirement already satisfied: pillow>=8 in /Users/vicegill/miniconda3/lib/python3.11/site-packages (from matplotlib==3.8.1->-r workflow/requirements.txt (line 7)) (10.1.0)\n",
      "Requirement already satisfied: pyparsing>=2.3.1 in /Users/vicegill/miniconda3/lib/python3.11/site-packages (from matplotlib==3.8.1->-r workflow/requirements.txt (line 7)) (3.1.1)\n",
      "Requirement already satisfied: backcall in /Users/vicegill/miniconda3/lib/python3.11/site-packages (from Ipython==8.14.0->-r workflow/requirements.txt (line 8)) (0.2.0)\n",
      "Requirement already satisfied: decorator in /Users/vicegill/miniconda3/lib/python3.11/site-packages (from Ipython==8.14.0->-r workflow/requirements.txt (line 8)) (5.1.1)\n",
      "Requirement already satisfied: jedi>=0.16 in /Users/vicegill/miniconda3/lib/python3.11/site-packages (from Ipython==8.14.0->-r workflow/requirements.txt (line 8)) (0.19.1)\n",
      "Requirement already satisfied: matplotlib-inline in /Users/vicegill/miniconda3/lib/python3.11/site-packages (from Ipython==8.14.0->-r workflow/requirements.txt (line 8)) (0.1.6)\n",
      "Requirement already satisfied: pickleshare in /Users/vicegill/miniconda3/lib/python3.11/site-packages (from Ipython==8.14.0->-r workflow/requirements.txt (line 8)) (0.7.5)\n",
      "Requirement already satisfied: prompt-toolkit!=3.0.37,<3.1.0,>=3.0.30 in /Users/vicegill/miniconda3/lib/python3.11/site-packages (from Ipython==8.14.0->-r workflow/requirements.txt (line 8)) (3.0.41)\n",
      "Requirement already satisfied: pygments>=2.4.0 in /Users/vicegill/miniconda3/lib/python3.11/site-packages (from Ipython==8.14.0->-r workflow/requirements.txt (line 8)) (2.17.2)\n",
      "Requirement already satisfied: stack-data in /Users/vicegill/miniconda3/lib/python3.11/site-packages (from Ipython==8.14.0->-r workflow/requirements.txt (line 8)) (0.6.3)\n",
      "Requirement already satisfied: traitlets>=5 in /Users/vicegill/miniconda3/lib/python3.11/site-packages (from Ipython==8.14.0->-r workflow/requirements.txt (line 8)) (5.14.0)\n",
      "Requirement already satisfied: pexpect>4.3 in /Users/vicegill/miniconda3/lib/python3.11/site-packages (from Ipython==8.14.0->-r workflow/requirements.txt (line 8)) (4.9.0)\n",
      "Requirement already satisfied: appnope in /Users/vicegill/miniconda3/lib/python3.11/site-packages (from Ipython==8.14.0->-r workflow/requirements.txt (line 8)) (0.1.3)\n",
      "Requirement already satisfied: attrs>=20.3.0 in /Users/vicegill/miniconda3/lib/python3.11/site-packages (from demes>=0.2->msprime==1.2.0->-r workflow/requirements.txt (line 3)) (23.1.0)\n",
      "Requirement already satisfied: ruamel.yaml>=0.15.78 in /Users/vicegill/miniconda3/lib/python3.11/site-packages (from demes>=0.2->msprime==1.2.0->-r workflow/requirements.txt (line 3)) (0.17.21)\n",
      "Requirement already satisfied: parso<0.9.0,>=0.8.3 in /Users/vicegill/miniconda3/lib/python3.11/site-packages (from jedi>=0.16->Ipython==8.14.0->-r workflow/requirements.txt (line 8)) (0.8.3)\n",
      "Requirement already satisfied: jsonschema-specifications>=2023.03.6 in /Users/vicegill/miniconda3/lib/python3.11/site-packages (from jsonschema>=3.0.0->tskit==0.5.6->-r workflow/requirements.txt (line 4)) (2023.11.2)\n",
      "Requirement already satisfied: referencing>=0.28.4 in /Users/vicegill/miniconda3/lib/python3.11/site-packages (from jsonschema>=3.0.0->tskit==0.5.6->-r workflow/requirements.txt (line 4)) (0.32.0)\n",
      "Requirement already satisfied: rpds-py>=0.7.1 in /Users/vicegill/miniconda3/lib/python3.11/site-packages (from jsonschema>=3.0.0->tskit==0.5.6->-r workflow/requirements.txt (line 4)) (0.13.2)\n",
      "Requirement already satisfied: ptyprocess>=0.5 in /Users/vicegill/miniconda3/lib/python3.11/site-packages (from pexpect>4.3->Ipython==8.14.0->-r workflow/requirements.txt (line 8)) (0.7.0)\n",
      "Requirement already satisfied: wcwidth in /Users/vicegill/miniconda3/lib/python3.11/site-packages (from prompt-toolkit!=3.0.37,<3.1.0,>=3.0.30->Ipython==8.14.0->-r workflow/requirements.txt (line 8)) (0.2.12)\n",
      "Requirement already satisfied: six>=1.5 in /Users/vicegill/miniconda3/lib/python3.11/site-packages (from python-dateutil>=2.8.2->pandas==2.0.2->-r workflow/requirements.txt (line 6)) (1.16.0)\n",
      "Requirement already satisfied: executing>=1.2.0 in /Users/vicegill/miniconda3/lib/python3.11/site-packages (from stack-data->Ipython==8.14.0->-r workflow/requirements.txt (line 8)) (2.0.1)\n",
      "Requirement already satisfied: asttokens>=2.1.0 in /Users/vicegill/miniconda3/lib/python3.11/site-packages (from stack-data->Ipython==8.14.0->-r workflow/requirements.txt (line 8)) (2.4.1)\n",
      "Requirement already satisfied: pure-eval in /Users/vicegill/miniconda3/lib/python3.11/site-packages (from stack-data->Ipython==8.14.0->-r workflow/requirements.txt (line 8)) (0.2.2)\n",
      "Using cached pyslim-1.0.4-py3-none-any.whl (65 kB)\n",
      "Using cached matplotlib-3.8.1-cp311-cp311-macosx_11_0_arm64.whl (7.5 MB)\n",
      "Using cached ipython-8.14.0-py3-none-any.whl (798 kB)\n",
      "Installing collected packages: matplotlib, Ipython, pyslim\n",
      "  Attempting uninstall: matplotlib\n",
      "    Found existing installation: matplotlib 3.8.2\n",
      "    Uninstalling matplotlib-3.8.2:\n",
      "      Successfully uninstalled matplotlib-3.8.2\n",
      "Successfully installed Ipython-8.14.0 matplotlib-3.8.1 pyslim-1.0.4\n"
     ]
    }
   ],
   "source": [
    "%env PYTHONX=-Xfrozen_modules=off\n",
    "! pip install -r workflow/requirements.txt"
   ]
  },
  {
   "cell_type": "code",
   "execution_count": 11,
   "metadata": {},
   "outputs": [],
   "source": [
    "import pyslim\n",
    "import tskit\n",
    "import msprime\n",
    "import pandas as pd\n",
    "import numpy as np\n",
    "import io\n",
    "import random\n",
    "import matplotlib.pyplot as plt\n",
    "from IPython.display import display,SVG"
   ]
  },
  {
   "cell_type": "markdown",
   "metadata": {
    "tags": [
     "parameters"
    ]
   },
   "source": [
    "<!-- parameters -->\n",
    "- sample_size: 50\n",
    "- sequence_length: 100000\n",
    "- mutation_rate: 3e-08\n",
    "- recombination_rate: 3e-09\n",
    "- N: 50000\n",
    "- selection_coefficient : 1"
   ]
  },
  {
   "cell_type": "code",
   "execution_count": 12,
   "metadata": {},
   "outputs": [],
   "source": [
    "random_seed = random.randint(1, 1000000)\n",
    "output_pdf_path = f\"output/output_selection/selection_txt/selection_{selection_coefficient}.txt\"\n",
    "with open(output_pdf_path,\"a\") as file:\n",
    "    file.write(f\" the random seed used for this simulation is {random_seed} \\n\")"
   ]
  },
  {
   "cell_type": "markdown",
   "metadata": {},
   "source": [
    "So we are going to use the pyslim package in this jupyter-notebook , So e already had simulated trees after selective sweep but we simulated it less then 2Ne generation so there is high chance we don't have the Most recent common ancestor.\n",
    "\n",
    "The pyslim helps to perform the coalescent burn-in on the data until we find the MCRA (Most recent common ancestor) and then put the neutral mutations on the tree.\n",
    "\n",
    "There are three steps in this case :\n",
    "1. Recapitation \n",
    "2. Simplification\n",
    "3. Neutral Mutation\n",
    "\n",
    "# Recapitate\n",
    "The population may not have coalesced entirely (reached the demographic equilibrium). This performs the coalescent burn based on the parameters we provide.\n",
    "# Simplification\n",
    "It reduces the number of external nodes to few as we only need a sample then the whole population\n",
    "# Neutral Mutation\n",
    "At the end of this the muatations are added on the treesequence.\n",
    "\n",
    "\n"
   ]
  },
  {
   "cell_type": "code",
   "execution_count": 19,
   "metadata": {},
   "outputs": [],
   "source": [
    "# Loading the sequence in the ts format\n",
    "ts_load = tskit.load(f\"output/output_selection/selection_trees/selection_{selection_coefficient}.trees\")"
   ]
  },
  {
   "cell_type": "code",
   "execution_count": 18,
   "metadata": {},
   "outputs": [
    {
     "name": "stdout",
     "output_type": "stream",
     "text": [
      "Maximum number of roots before recapitation: 1\n",
      "After recapitation: 1\n"
     ]
    }
   ],
   "source": [
    "# Recapitating the data\n",
    "\n",
    "rts = pyslim.recapitate(ts_load,\n",
    "                        recombination_rate = recombination_rate,\n",
    "                        ancestral_Ne = N,\n",
    "                        random_seed =random_seed)\n",
    "orig_max_roots = max(t.num_roots for t in ts_load.trees()) \n",
    "recap_max_roots = max(t.num_roots for t in rts.trees())\n",
    "print(f\"Maximum number of roots before recapitation: {orig_max_roots}\\n\"\n",
    "      f\"After recapitation: {recap_max_roots}\")\n",
    "with open(output_pdf_path,\"a\") as txt_file:\n",
    "    txt_file.write(f\"Maximum number of roots before recapitation: {orig_max_roots}\\n\"\n",
    "                   f\"After recapitation: {recap_max_roots} \\n\")\n",
    "\n",
    "\n",
    "\n"
   ]
  },
  {
   "cell_type": "code",
   "execution_count": 20,
   "metadata": {},
   "outputs": [
    {
     "ename": "NameError",
     "evalue": "name 'sample_size' is not defined",
     "output_type": "error",
     "traceback": [
      "\u001b[0;31m---------------------------------------------------------------------------\u001b[0m",
      "\u001b[0;31mNameError\u001b[0m                                 Traceback (most recent call last)",
      "Cell \u001b[0;32mIn[20], line 5\u001b[0m\n\u001b[1;32m      3\u001b[0m rng \u001b[39m=\u001b[39m np\u001b[39m.\u001b[39mrandom\u001b[39m.\u001b[39mdefault_rng(seed\u001b[39m=\u001b[39mrandom_seed)\n\u001b[1;32m      4\u001b[0m alive_inds \u001b[39m=\u001b[39m pyslim\u001b[39m.\u001b[39mindividuals_alive_at(rts, \u001b[39m0\u001b[39m)\n\u001b[0;32m----> 5\u001b[0m keep_indivs \u001b[39m=\u001b[39m rng\u001b[39m.\u001b[39mchoice(alive_inds, sample_size, replace\u001b[39m=\u001b[39m\u001b[39mFalse\u001b[39;00m)\n\u001b[1;32m      6\u001b[0m keep_nodes \u001b[39m=\u001b[39m []\n\u001b[1;32m      7\u001b[0m \u001b[39mfor\u001b[39;00m i \u001b[39min\u001b[39;00m keep_indivs:\n",
      "\u001b[0;31mNameError\u001b[0m: name 'sample_size' is not defined"
     ]
    }
   ],
   "source": [
    "# Simplification of the data\n",
    "\n",
    "rng = np.random.default_rng(seed=random_seed)\n",
    "alive_inds = pyslim.individuals_alive_at(rts, 0)\n",
    "keep_indivs = rng.choice(alive_inds, sample_size, replace=False)\n",
    "keep_nodes = []\n",
    "for i in keep_indivs:\n",
    "  keep_nodes.extend(rts.individual(i).nodes)\n",
    "\n",
    "sts = rts.simplify(keep_nodes, keep_input_roots=True)\n",
    "\n",
    "with open(output_pdf_path,\"a\") as txt_file:\n",
    "  txt_file.write((f\"Before, there were {rts.num_samples} sample nodes (and {rts.num_individuals} individuals)\\n\"\n",
    "                  f\"in the tree sequence, and now there are {sts.num_samples} sample nodes\\n\"\n",
    "                  f\"(and {sts.num_individuals} individuals).\\n\"))"
   ]
  },
  {
   "cell_type": "code",
   "execution_count": 3,
   "metadata": {},
   "outputs": [
    {
     "ename": "NameError",
     "evalue": "name 'pyslim' is not defined",
     "output_type": "error",
     "traceback": [
      "\u001b[0;31m---------------------------------------------------------------------------\u001b[0m",
      "\u001b[0;31mNameError\u001b[0m                                 Traceback (most recent call last)",
      "Cell \u001b[0;32mIn[3], line 2\u001b[0m\n\u001b[1;32m      1\u001b[0m \u001b[39m# Adding the mutations to the tree\u001b[39;00m\n\u001b[0;32m----> 2\u001b[0m next_id \u001b[39m=\u001b[39m pyslim\u001b[39m.\u001b[39mnext_slim_mutation_id(sts)\n\u001b[1;32m      3\u001b[0m ts \u001b[39m=\u001b[39m msprime\u001b[39m.\u001b[39msim_mutations(sts,\n\u001b[1;32m      4\u001b[0m                            rate\u001b[39m=\u001b[39mmutation_rate,\n\u001b[1;32m      5\u001b[0m                            model\u001b[39m=\u001b[39mmsprime\u001b[39m.\u001b[39mSLiMMutationModel(\u001b[39mtype\u001b[39m\u001b[39m=\u001b[39m\u001b[39m0\u001b[39m, next_id\u001b[39m=\u001b[39mnext_id),\n\u001b[1;32m      6\u001b[0m                            keep\u001b[39m=\u001b[39m\u001b[39mTrue\u001b[39;00m)\n",
      "\u001b[0;31mNameError\u001b[0m: name 'pyslim' is not defined"
     ]
    }
   ],
   "source": [
    "# Adding the mutations to the tree\n",
    "next_id = pyslim.next_slim_mutation_id(sts)\n",
    "ts = msprime.sim_mutations(sts,\n",
    "                           rate=mutation_rate,\n",
    "                           model=msprime.SLiMMutationModel(type=0, next_id=next_id),\n",
    "                           keep=True)\n",
    "                           \n"
   ]
  },
  {
   "cell_type": "code",
   "execution_count": null,
   "metadata": {},
   "outputs": [],
   "source": [
    "# Turning the tree sequences into the vcf file\n",
    "nts = pyslim.generate_nucleotides(ts)\n",
    "nts = pyslim.convert_alleles(nts)\n",
    "\n",
    "vcf_file_path = f\"output/output_selection/vcf/selection_{selection_coefficient}.vcf\"\n",
    "with open(vcf_file_path, \"w\") as vcf_file:\n",
    "    nts.write_vcf(vcf_file)\n",
    "fasta_file_path= f\"output/output_selection/fasta/selection_{selection_coefficient}.fasta\"\n",
    "with open(fasta_file_path,\"w\") as fasta_file:\n",
    "    nts.write_fasta(fasta_file)\n"
   ]
  },
  {
   "cell_type": "code",
   "execution_count": null,
   "metadata": {},
   "outputs": [],
   "source": [
    "# Computing the different statistics\n",
    "ns = nts.segregating_sites(span_normalise = False)\n",
    "k = nts.allele_frequency_spectrum(polarised = True,span_normalise=False,mode=\"site\")/ns\n",
    "k = k[2:]\n",
    "plt.ioff()\n",
    "plt.subplot(2,2,1)\n",
    "plt.stairs(k)\n",
    "plt.xlabel(\"The categories from 1 to 100\")\n",
    "plt.ylabel(\"Count\")\n",
    "plt.title(f\"Allele frequency spectrum \")\n",
    "with open(output_pdf_path,\"a\") as txt_file:\n",
    "  txt_file.write((f\" These are the population statistics related to this data : - \\n\"\n",
    "                  f\" The allele frequency numbers are :-  \\n{k}\\n\"\n",
    "                  f\"1. The Tajima'D for the given sequence is {nts.Tajimas_D()}\\n \"))\n",
    "plt.savefig(f\"output/output_selection/plots/allele_frequency_spectrum_{selection_coefficient}.jpg\")\n"
   ]
  },
  {
   "cell_type": "code",
   "execution_count": null,
   "metadata": {},
   "outputs": [],
   "source": [
    "meta_file_statistics = \"output/output_selection/meta_data/meta_Stats.tab\"\n",
    "\n",
    "with open(meta_file_statistics, \"a\") as file:\n",
    "    file.write(f\"{fasta_file_path}\\t{selection_coefficient}\\t{nts.Tajimas_D()}\\t{nts.diversity()}\\t{ns}\\n\")\n",
    "\n",
    "\n"
   ]
  },
  {
   "cell_type": "code",
   "execution_count": null,
   "metadata": {},
   "outputs": [],
   "source": [
    "num_windows = 100\n",
    "k = nts.allele_frequency_spectrum(polarised = True,\n",
    "                                  windows=np.linspace(0, ts.sequence_length, num_windows + 1),\n",
    "                                  span_normalise=True,\n",
    "                                  mode=\"site\")\n",
    "\n",
    "file_path = f\"output/output_selection/arrays/array_data_{selection_coefficient}.txt\"\n",
    "\n",
    "np.savetxt(file_path, k)"
   ]
  }
 ],
 "metadata": {
  "kernelspec": {
   "display_name": "Python 3 (ipykernel)",
   "language": "python",
   "name": "python3"
  },
  "orig_nbformat": 4
 },
 "nbformat": 4,
 "nbformat_minor": 2
}
