{
 "cells": [
  {
   "cell_type": "code",
   "execution_count": 1,
   "metadata": {},
   "outputs": [],
   "source": [
    "import random \n",
    "import numpy as np\n",
    "import os"
   ]
  },
  {
   "cell_type": "markdown",
   "metadata": {
    "tags": [
     "parameters"
    ]
   },
   "source": [
    "<!-- parameters -->\n",
    "- lowest_i: 0.1\n",
    "- highest_i: 0.4\n",
    "- num_of_data: 5000"
   ]
  },
  {
   "cell_type": "code",
   "execution_count": null,
   "metadata": {},
   "outputs": [],
   "source": [
    "\n",
    "def generate_unique_coefficients(lowest_i, highest_i, num_of_data):\n",
    "    coefficients = set()\n",
    "    while len(coefficients) < num_of_data:\n",
    "        random_seed = random.randint(1, 10000000)\n",
    "        np.random.seed(random_seed)\n",
    "        new_coefficients = np.random.uniform(lowest_i, highest_i, num_of_data - len(coefficients))\n",
    "        coefficients.update(np.round(new_coefficients, 4))\n",
    "    return list(coefficients)\n",
    "\n",
    "bottleneck_coefficients = generate_unique_coefficients(lowest_i, highest_i, num_of_data)\n",
    "\n",
    "while len(set(bottleneck_coefficients)) != len(bottleneck_coefficients):\n",
    "    print(\"Duplicates found. Regenerating coefficients.\")\n",
    "    bottleneck_coefficients = generate_unique_coefficients(lowest_i, highest_i, num_of_data)\n",
    "\n",
    "# Write coefficients to file\n",
    "file = \"output/output_bottleneck/bottleneck_coeffecient_meta.txt\"\n",
    "with open(file, \"w\") as file_txt:\n",
    "    for i in bottleneck_coefficients:\n",
    "        file_txt.write(f\"{i}\\n\")\n",
    "\n",
    "print(\"All bottleneck coefficients are unique.\")\n",
    "\n",
    "\n"
   ]
  }
 ],
 "metadata": {
  "kernelspec": {
   "display_name": "Python 3 (ipykernel)",
   "language": "python",
   "name": "python3"
  },
  "language_info": {
   "codemirror_mode": {
    "name": "ipython",
    "version": 3
   },
   "file_extension": ".py",
   "mimetype": "text/x-python",
   "name": "python",
   "nbconvert_exporter": "python",
   "pygments_lexer": "ipython3",
   "version": "3.11.6"
  }
 },
 "nbformat": 4,
 "nbformat_minor": 2
}
