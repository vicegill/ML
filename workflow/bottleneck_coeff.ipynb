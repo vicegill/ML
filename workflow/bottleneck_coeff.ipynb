{
 "cells": [
  {
   "cell_type": "code",
   "execution_count": 1,
   "metadata": {},
   "outputs": [],
   "source": [
    "import random  # Import the random module to generate random numbers\n",
    "import numpy as np  # Import the numpy module for numerical computing\n",
    "import os  # Import the os module for interacting with the operating system"
   ]
  },
  {
   "cell_type": "markdown",
   "metadata": {
    "tags": [
     "parameters"
    ]
   },
   "source": [
    "<!-- parameters -->\n",
    "- lowest_i: 0.1\n",
    "- highest_i: 0.4\n",
    "- num_of_data: 5000"
   ]
  },
  {
   "cell_type": "code",
   "execution_count": null,
   "metadata": {},
   "outputs": [],
   "source": [
    "\n",
    "# Function to generate unique coefficients within a range\n",
    "def generate_unique_coefficients(lowest_i, highest_i, num_of_data):\n",
    "    coefficients = set()  # Create an empty set to store unique coefficients\n",
    "    while len(coefficients) < num_of_data:  # Continue until desired number of coefficients is generated\n",
    "        random_seed = random.randint(1, 10000000)  # Generate a random seed\n",
    "        np.random.seed(random_seed)  # Set the seed for reproducibility\n",
    "        new_coefficients = np.random.uniform(lowest_i, highest_i, num_of_data - len(coefficients))  # Generate new coefficients\n",
    "        coefficients.update(np.round(new_coefficients, 4))  # Add unique coefficients to the set\n",
    "    return list(coefficients)  # Convert set to list and return\n",
    "\n",
    "# Generate unique bottleneck coefficients\n",
    "bottleneck_coefficients = generate_unique_coefficients(lowest_i, highest_i, num_of_data)\n",
    "\n",
    "# Check for duplicates and regenerate coefficients if necessary\n",
    "while len(set(bottleneck_coefficients)) != len(bottleneck_coefficients):\n",
    "    print(\"Duplicates found. Regenerating coefficients.\")\n",
    "    bottleneck_coefficients = generate_unique_coefficients(lowest_i, highest_i, num_of_data)\n",
    "\n",
    "# Write coefficients to file\n",
    "file = \"output/output_bottleneck/bottleneck_coeffecient_meta.txt\"\n",
    "with open(file, \"w\") as file_txt:\n",
    "    for i in bottleneck_coefficients:\n",
    "        file_txt.write(f\"{i}\\n\")\n",
    "\n",
    "print(\"All bottleneck coefficients are unique.\")\n"
   ]
  }
 ],
 "metadata": {
  "kernelspec": {
   "display_name": "Python 3 (ipykernel)",
   "language": "python",
   "name": "python3"
  },
  "language_info": {
   "codemirror_mode": {
    "name": "ipython",
    "version": 3
   },
   "file_extension": ".py",
   "mimetype": "text/x-python",
   "name": "python",
   "nbconvert_exporter": "python",
   "pygments_lexer": "ipython3",
   "version": "3.11.6"
  }
 },
 "nbformat": 4,
 "nbformat_minor": 2
}
